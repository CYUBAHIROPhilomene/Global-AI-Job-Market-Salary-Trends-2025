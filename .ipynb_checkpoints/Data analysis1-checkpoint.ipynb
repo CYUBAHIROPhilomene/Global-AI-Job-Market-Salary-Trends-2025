{
 "cells": [
  {
   "cell_type": "code",
   "execution_count": 1,
   "id": "6e5d6015-ba07-4631-af67-05d756fe4c0d",
   "metadata": {},
   "outputs": [],
   "source": [
    "#Impor Libraries\n",
    "import os\n",
    "import pandas as pd\n",
    "import numpy as np\n",
    "import plotly.express as px"
   ]
  },
  {
   "cell_type": "markdown",
   "id": "21807f8a-fb0f-4da1-a340-1e7f7ff97072",
   "metadata": {},
   "source": [
    "## Define and create paths"
   ]
  },
  {
   "cell_type": "code",
   "execution_count": 2,
   "id": "57928103-6dca-4700-9283-fb25634f7f2d",
   "metadata": {},
   "outputs": [],
   "source": [
    "#Get working directory\n",
    "current_dir = os.getcwd()\n",
    "#Define path to results folder\n",
    "results_dir = os.path.join(current_dir, 'results')\n",
    "os.makedirs(results_dir, exist_ok=True)"
   ]
  },
  {
   "cell_type": "markdown",
   "id": "586e41e2-150b-4bee-b0bc-f76e01ac67fb",
   "metadata": {},
   "source": [
    "## Read in the data"
   ]
  },
  {
   "cell_type": "code",
   "execution_count": 4,
   "id": "3eea5d03-01c3-4d21-a0a9-f04c2d18976c",
   "metadata": {},
   "outputs": [
    {
     "data": {
      "text/html": [
       "<div>\n",
       "<style scoped>\n",
       "    .dataframe tbody tr th:only-of-type {\n",
       "        vertical-align: middle;\n",
       "    }\n",
       "\n",
       "    .dataframe tbody tr th {\n",
       "        vertical-align: top;\n",
       "    }\n",
       "\n",
       "    .dataframe thead th {\n",
       "        text-align: right;\n",
       "    }\n",
       "</style>\n",
       "<table border=\"1\" class=\"dataframe\">\n",
       "  <thead>\n",
       "    <tr style=\"text-align: right;\">\n",
       "      <th></th>\n",
       "      <th>job_id</th>\n",
       "      <th>job_title</th>\n",
       "      <th>salary_usd</th>\n",
       "      <th>salary_currency</th>\n",
       "      <th>experience_level</th>\n",
       "      <th>employment_type</th>\n",
       "      <th>company_location</th>\n",
       "      <th>company_size</th>\n",
       "      <th>employee_residence</th>\n",
       "      <th>remote_ratio</th>\n",
       "      <th>required_skills</th>\n",
       "      <th>education_required</th>\n",
       "      <th>years_experience</th>\n",
       "      <th>industry</th>\n",
       "      <th>posting_date</th>\n",
       "      <th>application_deadline</th>\n",
       "      <th>job_description_length</th>\n",
       "      <th>benefits_score</th>\n",
       "      <th>company_name</th>\n",
       "    </tr>\n",
       "  </thead>\n",
       "  <tbody>\n",
       "    <tr>\n",
       "      <th>0</th>\n",
       "      <td>AI00001</td>\n",
       "      <td>AI Research Scientist</td>\n",
       "      <td>90376.0</td>\n",
       "      <td>USD</td>\n",
       "      <td>Senior</td>\n",
       "      <td>Contract</td>\n",
       "      <td>China</td>\n",
       "      <td>M</td>\n",
       "      <td>China</td>\n",
       "      <td>Hybrid</td>\n",
       "      <td>Tableau, PyTorch, Kubernetes, Linux, NLP</td>\n",
       "      <td>Bachelor</td>\n",
       "      <td>9</td>\n",
       "      <td>Automotive</td>\n",
       "      <td>18/10/2024</td>\n",
       "      <td>07/11/2024</td>\n",
       "      <td>1076</td>\n",
       "      <td>5.9</td>\n",
       "      <td>Smart Analytics</td>\n",
       "    </tr>\n",
       "    <tr>\n",
       "      <th>1</th>\n",
       "      <td>AI00002</td>\n",
       "      <td>AI Software Engineer</td>\n",
       "      <td>61895.0</td>\n",
       "      <td>USD</td>\n",
       "      <td>Entry level</td>\n",
       "      <td>Contract</td>\n",
       "      <td>Canada</td>\n",
       "      <td>M</td>\n",
       "      <td>Ireland</td>\n",
       "      <td>Fully remote</td>\n",
       "      <td>Deep Learning, AWS, Mathematics, Python, Docker</td>\n",
       "      <td>Master</td>\n",
       "      <td>1</td>\n",
       "      <td>Media</td>\n",
       "      <td>20/11/2024</td>\n",
       "      <td>11/01/2025</td>\n",
       "      <td>1268</td>\n",
       "      <td>5.2</td>\n",
       "      <td>TechCorp Inc</td>\n",
       "    </tr>\n",
       "    <tr>\n",
       "      <th>2</th>\n",
       "      <td>AI00003</td>\n",
       "      <td>AI Specialist</td>\n",
       "      <td>152626.0</td>\n",
       "      <td>USD</td>\n",
       "      <td>Mid level</td>\n",
       "      <td>Freelance</td>\n",
       "      <td>Switzerland</td>\n",
       "      <td>L</td>\n",
       "      <td>South Korea</td>\n",
       "      <td>Fully on site</td>\n",
       "      <td>Kubernetes, Deep Learning, Java, Hadoop, NLP</td>\n",
       "      <td>Associate</td>\n",
       "      <td>2</td>\n",
       "      <td>Education</td>\n",
       "      <td>18/03/2025</td>\n",
       "      <td>07/04/2025</td>\n",
       "      <td>1974</td>\n",
       "      <td>9.4</td>\n",
       "      <td>Autonomous Tech</td>\n",
       "    </tr>\n",
       "    <tr>\n",
       "      <th>3</th>\n",
       "      <td>AI00004</td>\n",
       "      <td>NLP Engineer</td>\n",
       "      <td>80215.0</td>\n",
       "      <td>USD</td>\n",
       "      <td>Senior</td>\n",
       "      <td>Freelance</td>\n",
       "      <td>India</td>\n",
       "      <td>M</td>\n",
       "      <td>India</td>\n",
       "      <td>Hybrid</td>\n",
       "      <td>Scala, SQL, Linux, Python</td>\n",
       "      <td>PhD</td>\n",
       "      <td>7</td>\n",
       "      <td>Consulting</td>\n",
       "      <td>23/12/2024</td>\n",
       "      <td>24/02/2025</td>\n",
       "      <td>1345</td>\n",
       "      <td>8.6</td>\n",
       "      <td>Future Systems</td>\n",
       "    </tr>\n",
       "    <tr>\n",
       "      <th>4</th>\n",
       "      <td>AI00005</td>\n",
       "      <td>AI Consultant</td>\n",
       "      <td>62817.6</td>\n",
       "      <td>USD</td>\n",
       "      <td>Entry level</td>\n",
       "      <td>Part time</td>\n",
       "      <td>France</td>\n",
       "      <td>S</td>\n",
       "      <td>Singapore</td>\n",
       "      <td>Fully remote</td>\n",
       "      <td>MLOps, Java, Tableau, Python</td>\n",
       "      <td>Master</td>\n",
       "      <td>0</td>\n",
       "      <td>Media</td>\n",
       "      <td>15/04/2025</td>\n",
       "      <td>23/06/2025</td>\n",
       "      <td>1989</td>\n",
       "      <td>6.6</td>\n",
       "      <td>Advanced Robotics</td>\n",
       "    </tr>\n",
       "    <tr>\n",
       "      <th>5</th>\n",
       "      <td>AI00006</td>\n",
       "      <td>AI Architect</td>\n",
       "      <td>142110.1</td>\n",
       "      <td>USD</td>\n",
       "      <td>Senior</td>\n",
       "      <td>Contract</td>\n",
       "      <td>Germany</td>\n",
       "      <td>M</td>\n",
       "      <td>Germany</td>\n",
       "      <td>Hybrid</td>\n",
       "      <td>Data Visualization, R, SQL, Linux</td>\n",
       "      <td>Associate</td>\n",
       "      <td>7</td>\n",
       "      <td>Healthcare</td>\n",
       "      <td>31/08/2024</td>\n",
       "      <td>04/10/2024</td>\n",
       "      <td>819</td>\n",
       "      <td>5.9</td>\n",
       "      <td>Neural Networks Co</td>\n",
       "    </tr>\n",
       "    <tr>\n",
       "      <th>6</th>\n",
       "      <td>AI00007</td>\n",
       "      <td>Principal Data Scientist</td>\n",
       "      <td>106757.8</td>\n",
       "      <td>USD</td>\n",
       "      <td>Mid level</td>\n",
       "      <td>Freelance</td>\n",
       "      <td>United Kingdom</td>\n",
       "      <td>S</td>\n",
       "      <td>United Kingdom</td>\n",
       "      <td>Fully on site</td>\n",
       "      <td>R, Docker, MLOps</td>\n",
       "      <td>Associate</td>\n",
       "      <td>3</td>\n",
       "      <td>Gaming</td>\n",
       "      <td>29/12/2024</td>\n",
       "      <td>28/02/2025</td>\n",
       "      <td>1936</td>\n",
       "      <td>6.3</td>\n",
       "      <td>DataVision Ltd</td>\n",
       "    </tr>\n",
       "    <tr>\n",
       "      <th>7</th>\n",
       "      <td>AI00008</td>\n",
       "      <td>NLP Engineer</td>\n",
       "      <td>81236.0</td>\n",
       "      <td>USD</td>\n",
       "      <td>Entry level</td>\n",
       "      <td>Freelance</td>\n",
       "      <td>France</td>\n",
       "      <td>L</td>\n",
       "      <td>France</td>\n",
       "      <td>Fully on site</td>\n",
       "      <td>Python, SQL, Computer Vision, Java, Azure</td>\n",
       "      <td>Master</td>\n",
       "      <td>0</td>\n",
       "      <td>Healthcare</td>\n",
       "      <td>07/06/2024</td>\n",
       "      <td>01/07/2024</td>\n",
       "      <td>1286</td>\n",
       "      <td>7.6</td>\n",
       "      <td>Cloud AI Solutions</td>\n",
       "    </tr>\n",
       "    <tr>\n",
       "      <th>8</th>\n",
       "      <td>AI00009</td>\n",
       "      <td>Data Analyst</td>\n",
       "      <td>160710.0</td>\n",
       "      <td>USD</td>\n",
       "      <td>Senior</td>\n",
       "      <td>Contract</td>\n",
       "      <td>Singapore</td>\n",
       "      <td>L</td>\n",
       "      <td>Singapore</td>\n",
       "      <td>Fully on site</td>\n",
       "      <td>Hadoop, Git, Mathematics, Python</td>\n",
       "      <td>PhD</td>\n",
       "      <td>7</td>\n",
       "      <td>Government</td>\n",
       "      <td>04/11/2024</td>\n",
       "      <td>24/11/2024</td>\n",
       "      <td>551</td>\n",
       "      <td>9.3</td>\n",
       "      <td>Quantum Computing Inc</td>\n",
       "    </tr>\n",
       "    <tr>\n",
       "      <th>9</th>\n",
       "      <td>AI00010</td>\n",
       "      <td>AI Software Engineer</td>\n",
       "      <td>102557.0</td>\n",
       "      <td>USD</td>\n",
       "      <td>Senior</td>\n",
       "      <td>Part time</td>\n",
       "      <td>Austria</td>\n",
       "      <td>M</td>\n",
       "      <td>Austria</td>\n",
       "      <td>Fully on site</td>\n",
       "      <td>MLOps, GCP, Scala, Azure, Linux</td>\n",
       "      <td>Master</td>\n",
       "      <td>5</td>\n",
       "      <td>Government</td>\n",
       "      <td>20/10/2024</td>\n",
       "      <td>06/11/2024</td>\n",
       "      <td>2340</td>\n",
       "      <td>5.8</td>\n",
       "      <td>Cloud AI Solutions</td>\n",
       "    </tr>\n",
       "  </tbody>\n",
       "</table>\n",
       "</div>"
      ],
      "text/plain": [
       "    job_id                 job_title  salary_usd salary_currency  \\\n",
       "0  AI00001     AI Research Scientist     90376.0             USD   \n",
       "1  AI00002      AI Software Engineer     61895.0             USD   \n",
       "2  AI00003             AI Specialist    152626.0             USD   \n",
       "3  AI00004              NLP Engineer     80215.0             USD   \n",
       "4  AI00005             AI Consultant     62817.6             USD   \n",
       "5  AI00006              AI Architect    142110.1             USD   \n",
       "6  AI00007  Principal Data Scientist    106757.8             USD   \n",
       "7  AI00008              NLP Engineer     81236.0             USD   \n",
       "8  AI00009              Data Analyst    160710.0             USD   \n",
       "9  AI00010      AI Software Engineer    102557.0             USD   \n",
       "\n",
       "  experience_level employment_type company_location company_size  \\\n",
       "0           Senior        Contract            China            M   \n",
       "1      Entry level        Contract           Canada            M   \n",
       "2        Mid level       Freelance      Switzerland            L   \n",
       "3           Senior       Freelance            India            M   \n",
       "4      Entry level       Part time           France            S   \n",
       "5           Senior        Contract          Germany            M   \n",
       "6        Mid level       Freelance   United Kingdom            S   \n",
       "7      Entry level       Freelance           France            L   \n",
       "8           Senior        Contract        Singapore            L   \n",
       "9           Senior       Part time          Austria            M   \n",
       "\n",
       "  employee_residence   remote_ratio  \\\n",
       "0              China         Hybrid   \n",
       "1            Ireland   Fully remote   \n",
       "2        South Korea  Fully on site   \n",
       "3              India         Hybrid   \n",
       "4          Singapore   Fully remote   \n",
       "5            Germany         Hybrid   \n",
       "6     United Kingdom  Fully on site   \n",
       "7             France  Fully on site   \n",
       "8          Singapore  Fully on site   \n",
       "9            Austria  Fully on site   \n",
       "\n",
       "                                   required_skills education_required  \\\n",
       "0         Tableau, PyTorch, Kubernetes, Linux, NLP           Bachelor   \n",
       "1  Deep Learning, AWS, Mathematics, Python, Docker             Master   \n",
       "2     Kubernetes, Deep Learning, Java, Hadoop, NLP          Associate   \n",
       "3                        Scala, SQL, Linux, Python                PhD   \n",
       "4                     MLOps, Java, Tableau, Python             Master   \n",
       "5                Data Visualization, R, SQL, Linux          Associate   \n",
       "6                                 R, Docker, MLOps          Associate   \n",
       "7        Python, SQL, Computer Vision, Java, Azure             Master   \n",
       "8                 Hadoop, Git, Mathematics, Python                PhD   \n",
       "9                  MLOps, GCP, Scala, Azure, Linux             Master   \n",
       "\n",
       "   years_experience    industry posting_date application_deadline  \\\n",
       "0                 9  Automotive   18/10/2024           07/11/2024   \n",
       "1                 1       Media   20/11/2024           11/01/2025   \n",
       "2                 2   Education   18/03/2025           07/04/2025   \n",
       "3                 7  Consulting   23/12/2024           24/02/2025   \n",
       "4                 0       Media   15/04/2025           23/06/2025   \n",
       "5                 7  Healthcare   31/08/2024           04/10/2024   \n",
       "6                 3      Gaming   29/12/2024           28/02/2025   \n",
       "7                 0  Healthcare   07/06/2024           01/07/2024   \n",
       "8                 7  Government   04/11/2024           24/11/2024   \n",
       "9                 5  Government   20/10/2024           06/11/2024   \n",
       "\n",
       "   job_description_length  benefits_score           company_name  \n",
       "0                    1076             5.9        Smart Analytics  \n",
       "1                    1268             5.2           TechCorp Inc  \n",
       "2                    1974             9.4        Autonomous Tech  \n",
       "3                    1345             8.6         Future Systems  \n",
       "4                    1989             6.6      Advanced Robotics  \n",
       "5                     819             5.9     Neural Networks Co  \n",
       "6                    1936             6.3         DataVision Ltd  \n",
       "7                    1286             7.6     Cloud AI Solutions  \n",
       "8                     551             9.3  Quantum Computing Inc  \n",
       "9                    2340             5.8     Cloud AI Solutions  "
      ]
     },
     "execution_count": 4,
     "metadata": {},
     "output_type": "execute_result"
    }
   ],
   "source": [
    "ai_jobs_data_filename = os.path.join(current_dir, \"ai_jobs_cleaned_dataset.csv\")\n",
    "ai_jobs_df = pd.read_csv(ai_jobs_data_filename)\n",
    "ai_jobs_df.head(10)"
   ]
  },
  {
   "cell_type": "markdown",
   "id": "342efa1b-c852-4cbc-a1a1-202e7745e117",
   "metadata": {},
   "source": [
    "## Total AI Jobs Over Month"
   ]
  },
  {
   "cell_type": "code",
   "execution_count": 10,
   "id": "aaace666-46e9-40a7-84f1-e426175332bb",
   "metadata": {},
   "outputs": [
    {
     "name": "stderr",
     "output_type": "stream",
     "text": [
      "C:\\Users\\LENOVO\\AppData\\Local\\Temp\\ipykernel_20492\\1787430825.py:11: FutureWarning: The default of observed=False is deprecated and will be changed to True in a future version of pandas. Pass observed=False to retain current behavior or observed=True to adopt the future default and silence this warning.\n",
      "  ai_monthly_jobs = ai_jobs_df.groupby('month').size().reset_index(name='total_jobs').sort_values('month')\n"
     ]
    },
    {
     "data": {
      "text/html": [
       "<div>\n",
       "<style scoped>\n",
       "    .dataframe tbody tr th:only-of-type {\n",
       "        vertical-align: middle;\n",
       "    }\n",
       "\n",
       "    .dataframe tbody tr th {\n",
       "        vertical-align: top;\n",
       "    }\n",
       "\n",
       "    .dataframe thead th {\n",
       "        text-align: right;\n",
       "    }\n",
       "</style>\n",
       "<table border=\"1\" class=\"dataframe\">\n",
       "  <thead>\n",
       "    <tr style=\"text-align: right;\">\n",
       "      <th></th>\n",
       "      <th>month</th>\n",
       "      <th>total_jobs</th>\n",
       "    </tr>\n",
       "  </thead>\n",
       "  <tbody>\n",
       "    <tr>\n",
       "      <th>0</th>\n",
       "      <td>January</td>\n",
       "      <td>1917</td>\n",
       "    </tr>\n",
       "    <tr>\n",
       "      <th>1</th>\n",
       "      <td>February</td>\n",
       "      <td>1767</td>\n",
       "    </tr>\n",
       "    <tr>\n",
       "      <th>2</th>\n",
       "      <td>March</td>\n",
       "      <td>1854</td>\n",
       "    </tr>\n",
       "    <tr>\n",
       "      <th>3</th>\n",
       "      <td>April</td>\n",
       "      <td>1927</td>\n",
       "    </tr>\n",
       "    <tr>\n",
       "      <th>4</th>\n",
       "      <td>May</td>\n",
       "      <td>955</td>\n",
       "    </tr>\n",
       "    <tr>\n",
       "      <th>5</th>\n",
       "      <td>June</td>\n",
       "      <td>938</td>\n",
       "    </tr>\n",
       "    <tr>\n",
       "      <th>6</th>\n",
       "      <td>July</td>\n",
       "      <td>959</td>\n",
       "    </tr>\n",
       "    <tr>\n",
       "      <th>7</th>\n",
       "      <td>August</td>\n",
       "      <td>958</td>\n",
       "    </tr>\n",
       "    <tr>\n",
       "      <th>8</th>\n",
       "      <td>September</td>\n",
       "      <td>895</td>\n",
       "    </tr>\n",
       "    <tr>\n",
       "      <th>9</th>\n",
       "      <td>October</td>\n",
       "      <td>949</td>\n",
       "    </tr>\n",
       "    <tr>\n",
       "      <th>10</th>\n",
       "      <td>November</td>\n",
       "      <td>922</td>\n",
       "    </tr>\n",
       "    <tr>\n",
       "      <th>11</th>\n",
       "      <td>December</td>\n",
       "      <td>959</td>\n",
       "    </tr>\n",
       "  </tbody>\n",
       "</table>\n",
       "</div>"
      ],
      "text/plain": [
       "        month  total_jobs\n",
       "0     January        1917\n",
       "1    February        1767\n",
       "2       March        1854\n",
       "3       April        1927\n",
       "4         May         955\n",
       "5        June         938\n",
       "6        July         959\n",
       "7      August         958\n",
       "8   September         895\n",
       "9     October         949\n",
       "10   November         922\n",
       "11   December         959"
      ]
     },
     "execution_count": 10,
     "metadata": {},
     "output_type": "execute_result"
    }
   ],
   "source": [
    "# Convert posting_date to datetime\n",
    "ai_jobs_df['posting_date'] = pd.to_datetime(ai_jobs_df['posting_date'], dayfirst=True)\n",
    "\n",
    "# Extract and order months\n",
    "ai_jobs_df['month'] = ai_jobs_df['posting_date'].dt.month_name()\n",
    "month_order = ['January', 'February', 'March', 'April', 'May', 'June',\n",
    "               'July', 'August', 'September', 'October', 'November', 'December']\n",
    "ai_jobs_df['month'] = pd.Categorical(ai_jobs_df['month'], categories=month_order, ordered=True)\n",
    "\n",
    "# Group by month and count jobs\n",
    "ai_monthly_jobs = ai_jobs_df.groupby('month').size().reset_index(name='total_jobs').sort_values('month')\n",
    "ai_monthly_jobs"
   ]
  },
  {
   "cell_type": "code",
   "execution_count": 11,
   "id": "bde6fc3e-068e-4b47-9418-b1e834a92295",
   "metadata": {},
   "outputs": [
    {
     "data": {
      "application/vnd.plotly.v1+json": {
       "config": {
        "plotlyServerURL": "https://plot.ly"
       },
       "data": [
        {
         "hovertemplate": "month=%{x}<br>total_jobs=%{text}<extra></extra>",
         "legendgroup": "",
         "line": {
          "color": "purple",
          "dash": "solid",
          "width": 3
         },
         "marker": {
          "symbol": "circle"
         },
         "mode": "lines+markers+text",
         "name": "",
         "orientation": "v",
         "showlegend": false,
         "text": {
          "_inputArray": {
           "0": 1917,
           "1": 1767,
           "10": 922,
           "11": 959,
           "2": 1854,
           "3": 1927,
           "4": 955,
           "5": 938,
           "6": 959,
           "7": 958,
           "8": 895,
           "9": 949,
           "bdata": "AAAAAAD0nUAAAAAAAJybQAAAAAAA+JxAAAAAAAAcnkAAAAAAANiNQAAAAAAAUI1AAAAAAAD4jUAAAAAAAPCNQAAAAAAA+ItAAAAAAACojUAAAAAAANCMQAAAAAAA+I1A",
           "dtype": "f8",
           "shape": "12"
          },
          "bdata": "AAAAAAD0nUAAAAAAAJybQAAAAAAA+JxAAAAAAAAcnkAAAAAAANiNQAAAAAAAUI1AAAAAAAD4jUAAAAAAAPCNQAAAAAAA+ItAAAAAAACojUAAAAAAANCMQAAAAAAA+I1A",
          "dtype": "f8"
         },
         "textposition": "top center",
         "type": "scatter",
         "x": [
          "January",
          "February",
          "March",
          "April",
          "May",
          "June",
          "July",
          "August",
          "September",
          "October",
          "November",
          "December"
         ],
         "xaxis": "x",
         "y": {
          "_inputArray": {
           "0": 1917,
           "1": 1767,
           "10": 922,
           "11": 959,
           "2": 1854,
           "3": 1927,
           "4": 955,
           "5": 938,
           "6": 959,
           "7": 958,
           "8": 895,
           "9": 949,
           "bdata": "fQfnBj4Hhwe7A6oDvwO+A38DtQOaA78D",
           "dtype": "i2",
           "shape": "12"
          },
          "bdata": "fQfnBj4Hhwe7A6oDvwO+A38DtQOaA78D",
          "dtype": "i2"
         },
         "yaxis": "y"
        }
       ],
       "layout": {
        "autosize": true,
        "legend": {
         "tracegroupgap": 0
        },
        "plot_bgcolor": "white",
        "showlegend": false,
        "template": {
         "data": {
          "bar": [
           {
            "error_x": {
             "color": "#2a3f5f"
            },
            "error_y": {
             "color": "#2a3f5f"
            },
            "marker": {
             "line": {
              "color": "#E5ECF6",
              "width": 0.5
             },
             "pattern": {
              "fillmode": "overlay",
              "size": 10,
              "solidity": 0.2
             }
            },
            "type": "bar"
           }
          ],
          "barpolar": [
           {
            "marker": {
             "line": {
              "color": "#E5ECF6",
              "width": 0.5
             },
             "pattern": {
              "fillmode": "overlay",
              "size": 10,
              "solidity": 0.2
             }
            },
            "type": "barpolar"
           }
          ],
          "carpet": [
           {
            "aaxis": {
             "endlinecolor": "#2a3f5f",
             "gridcolor": "white",
             "linecolor": "white",
             "minorgridcolor": "white",
             "startlinecolor": "#2a3f5f"
            },
            "baxis": {
             "endlinecolor": "#2a3f5f",
             "gridcolor": "white",
             "linecolor": "white",
             "minorgridcolor": "white",
             "startlinecolor": "#2a3f5f"
            },
            "type": "carpet"
           }
          ],
          "choropleth": [
           {
            "colorbar": {
             "outlinewidth": 0,
             "ticks": ""
            },
            "type": "choropleth"
           }
          ],
          "contour": [
           {
            "colorbar": {
             "outlinewidth": 0,
             "ticks": ""
            },
            "colorscale": [
             [
              0,
              "#0d0887"
             ],
             [
              0.1111111111111111,
              "#46039f"
             ],
             [
              0.2222222222222222,
              "#7201a8"
             ],
             [
              0.3333333333333333,
              "#9c179e"
             ],
             [
              0.4444444444444444,
              "#bd3786"
             ],
             [
              0.5555555555555556,
              "#d8576b"
             ],
             [
              0.6666666666666666,
              "#ed7953"
             ],
             [
              0.7777777777777778,
              "#fb9f3a"
             ],
             [
              0.8888888888888888,
              "#fdca26"
             ],
             [
              1,
              "#f0f921"
             ]
            ],
            "type": "contour"
           }
          ],
          "contourcarpet": [
           {
            "colorbar": {
             "outlinewidth": 0,
             "ticks": ""
            },
            "type": "contourcarpet"
           }
          ],
          "heatmap": [
           {
            "colorbar": {
             "outlinewidth": 0,
             "ticks": ""
            },
            "colorscale": [
             [
              0,
              "#0d0887"
             ],
             [
              0.1111111111111111,
              "#46039f"
             ],
             [
              0.2222222222222222,
              "#7201a8"
             ],
             [
              0.3333333333333333,
              "#9c179e"
             ],
             [
              0.4444444444444444,
              "#bd3786"
             ],
             [
              0.5555555555555556,
              "#d8576b"
             ],
             [
              0.6666666666666666,
              "#ed7953"
             ],
             [
              0.7777777777777778,
              "#fb9f3a"
             ],
             [
              0.8888888888888888,
              "#fdca26"
             ],
             [
              1,
              "#f0f921"
             ]
            ],
            "type": "heatmap"
           }
          ],
          "histogram": [
           {
            "marker": {
             "pattern": {
              "fillmode": "overlay",
              "size": 10,
              "solidity": 0.2
             }
            },
            "type": "histogram"
           }
          ],
          "histogram2d": [
           {
            "colorbar": {
             "outlinewidth": 0,
             "ticks": ""
            },
            "colorscale": [
             [
              0,
              "#0d0887"
             ],
             [
              0.1111111111111111,
              "#46039f"
             ],
             [
              0.2222222222222222,
              "#7201a8"
             ],
             [
              0.3333333333333333,
              "#9c179e"
             ],
             [
              0.4444444444444444,
              "#bd3786"
             ],
             [
              0.5555555555555556,
              "#d8576b"
             ],
             [
              0.6666666666666666,
              "#ed7953"
             ],
             [
              0.7777777777777778,
              "#fb9f3a"
             ],
             [
              0.8888888888888888,
              "#fdca26"
             ],
             [
              1,
              "#f0f921"
             ]
            ],
            "type": "histogram2d"
           }
          ],
          "histogram2dcontour": [
           {
            "colorbar": {
             "outlinewidth": 0,
             "ticks": ""
            },
            "colorscale": [
             [
              0,
              "#0d0887"
             ],
             [
              0.1111111111111111,
              "#46039f"
             ],
             [
              0.2222222222222222,
              "#7201a8"
             ],
             [
              0.3333333333333333,
              "#9c179e"
             ],
             [
              0.4444444444444444,
              "#bd3786"
             ],
             [
              0.5555555555555556,
              "#d8576b"
             ],
             [
              0.6666666666666666,
              "#ed7953"
             ],
             [
              0.7777777777777778,
              "#fb9f3a"
             ],
             [
              0.8888888888888888,
              "#fdca26"
             ],
             [
              1,
              "#f0f921"
             ]
            ],
            "type": "histogram2dcontour"
           }
          ],
          "mesh3d": [
           {
            "colorbar": {
             "outlinewidth": 0,
             "ticks": ""
            },
            "type": "mesh3d"
           }
          ],
          "parcoords": [
           {
            "line": {
             "colorbar": {
              "outlinewidth": 0,
              "ticks": ""
             }
            },
            "type": "parcoords"
           }
          ],
          "pie": [
           {
            "automargin": true,
            "type": "pie"
           }
          ],
          "scatter": [
           {
            "fillpattern": {
             "fillmode": "overlay",
             "size": 10,
             "solidity": 0.2
            },
            "type": "scatter"
           }
          ],
          "scatter3d": [
           {
            "line": {
             "colorbar": {
              "outlinewidth": 0,
              "ticks": ""
             }
            },
            "marker": {
             "colorbar": {
              "outlinewidth": 0,
              "ticks": ""
             }
            },
            "type": "scatter3d"
           }
          ],
          "scattercarpet": [
           {
            "marker": {
             "colorbar": {
              "outlinewidth": 0,
              "ticks": ""
             }
            },
            "type": "scattercarpet"
           }
          ],
          "scattergeo": [
           {
            "marker": {
             "colorbar": {
              "outlinewidth": 0,
              "ticks": ""
             }
            },
            "type": "scattergeo"
           }
          ],
          "scattergl": [
           {
            "marker": {
             "colorbar": {
              "outlinewidth": 0,
              "ticks": ""
             }
            },
            "type": "scattergl"
           }
          ],
          "scattermap": [
           {
            "marker": {
             "colorbar": {
              "outlinewidth": 0,
              "ticks": ""
             }
            },
            "type": "scattermap"
           }
          ],
          "scattermapbox": [
           {
            "marker": {
             "colorbar": {
              "outlinewidth": 0,
              "ticks": ""
             }
            },
            "type": "scattermapbox"
           }
          ],
          "scatterpolar": [
           {
            "marker": {
             "colorbar": {
              "outlinewidth": 0,
              "ticks": ""
             }
            },
            "type": "scatterpolar"
           }
          ],
          "scatterpolargl": [
           {
            "marker": {
             "colorbar": {
              "outlinewidth": 0,
              "ticks": ""
             }
            },
            "type": "scatterpolargl"
           }
          ],
          "scatterternary": [
           {
            "marker": {
             "colorbar": {
              "outlinewidth": 0,
              "ticks": ""
             }
            },
            "type": "scatterternary"
           }
          ],
          "surface": [
           {
            "colorbar": {
             "outlinewidth": 0,
             "ticks": ""
            },
            "colorscale": [
             [
              0,
              "#0d0887"
             ],
             [
              0.1111111111111111,
              "#46039f"
             ],
             [
              0.2222222222222222,
              "#7201a8"
             ],
             [
              0.3333333333333333,
              "#9c179e"
             ],
             [
              0.4444444444444444,
              "#bd3786"
             ],
             [
              0.5555555555555556,
              "#d8576b"
             ],
             [
              0.6666666666666666,
              "#ed7953"
             ],
             [
              0.7777777777777778,
              "#fb9f3a"
             ],
             [
              0.8888888888888888,
              "#fdca26"
             ],
             [
              1,
              "#f0f921"
             ]
            ],
            "type": "surface"
           }
          ],
          "table": [
           {
            "cells": {
             "fill": {
              "color": "#EBF0F8"
             },
             "line": {
              "color": "white"
             }
            },
            "header": {
             "fill": {
              "color": "#C8D4E3"
             },
             "line": {
              "color": "white"
             }
            },
            "type": "table"
           }
          ]
         },
         "layout": {
          "annotationdefaults": {
           "arrowcolor": "#2a3f5f",
           "arrowhead": 0,
           "arrowwidth": 1
          },
          "autotypenumbers": "strict",
          "coloraxis": {
           "colorbar": {
            "outlinewidth": 0,
            "ticks": ""
           }
          },
          "colorscale": {
           "diverging": [
            [
             0,
             "#8e0152"
            ],
            [
             0.1,
             "#c51b7d"
            ],
            [
             0.2,
             "#de77ae"
            ],
            [
             0.3,
             "#f1b6da"
            ],
            [
             0.4,
             "#fde0ef"
            ],
            [
             0.5,
             "#f7f7f7"
            ],
            [
             0.6,
             "#e6f5d0"
            ],
            [
             0.7,
             "#b8e186"
            ],
            [
             0.8,
             "#7fbc41"
            ],
            [
             0.9,
             "#4d9221"
            ],
            [
             1,
             "#276419"
            ]
           ],
           "sequential": [
            [
             0,
             "#0d0887"
            ],
            [
             0.1111111111111111,
             "#46039f"
            ],
            [
             0.2222222222222222,
             "#7201a8"
            ],
            [
             0.3333333333333333,
             "#9c179e"
            ],
            [
             0.4444444444444444,
             "#bd3786"
            ],
            [
             0.5555555555555556,
             "#d8576b"
            ],
            [
             0.6666666666666666,
             "#ed7953"
            ],
            [
             0.7777777777777778,
             "#fb9f3a"
            ],
            [
             0.8888888888888888,
             "#fdca26"
            ],
            [
             1,
             "#f0f921"
            ]
           ],
           "sequentialminus": [
            [
             0,
             "#0d0887"
            ],
            [
             0.1111111111111111,
             "#46039f"
            ],
            [
             0.2222222222222222,
             "#7201a8"
            ],
            [
             0.3333333333333333,
             "#9c179e"
            ],
            [
             0.4444444444444444,
             "#bd3786"
            ],
            [
             0.5555555555555556,
             "#d8576b"
            ],
            [
             0.6666666666666666,
             "#ed7953"
            ],
            [
             0.7777777777777778,
             "#fb9f3a"
            ],
            [
             0.8888888888888888,
             "#fdca26"
            ],
            [
             1,
             "#f0f921"
            ]
           ]
          },
          "colorway": [
           "#636efa",
           "#EF553B",
           "#00cc96",
           "#ab63fa",
           "#FFA15A",
           "#19d3f3",
           "#FF6692",
           "#B6E880",
           "#FF97FF",
           "#FECB52"
          ],
          "font": {
           "color": "#2a3f5f"
          },
          "geo": {
           "bgcolor": "white",
           "lakecolor": "white",
           "landcolor": "#E5ECF6",
           "showlakes": true,
           "showland": true,
           "subunitcolor": "white"
          },
          "hoverlabel": {
           "align": "left"
          },
          "hovermode": "closest",
          "mapbox": {
           "style": "light"
          },
          "paper_bgcolor": "white",
          "plot_bgcolor": "#E5ECF6",
          "polar": {
           "angularaxis": {
            "gridcolor": "white",
            "linecolor": "white",
            "ticks": ""
           },
           "bgcolor": "#E5ECF6",
           "radialaxis": {
            "gridcolor": "white",
            "linecolor": "white",
            "ticks": ""
           }
          },
          "scene": {
           "xaxis": {
            "backgroundcolor": "#E5ECF6",
            "gridcolor": "white",
            "gridwidth": 2,
            "linecolor": "white",
            "showbackground": true,
            "ticks": "",
            "zerolinecolor": "white"
           },
           "yaxis": {
            "backgroundcolor": "#E5ECF6",
            "gridcolor": "white",
            "gridwidth": 2,
            "linecolor": "white",
            "showbackground": true,
            "ticks": "",
            "zerolinecolor": "white"
           },
           "zaxis": {
            "backgroundcolor": "#E5ECF6",
            "gridcolor": "white",
            "gridwidth": 2,
            "linecolor": "white",
            "showbackground": true,
            "ticks": "",
            "zerolinecolor": "white"
           }
          },
          "shapedefaults": {
           "line": {
            "color": "#2a3f5f"
           }
          },
          "ternary": {
           "aaxis": {
            "gridcolor": "white",
            "linecolor": "white",
            "ticks": ""
           },
           "baxis": {
            "gridcolor": "white",
            "linecolor": "white",
            "ticks": ""
           },
           "bgcolor": "#E5ECF6",
           "caxis": {
            "gridcolor": "white",
            "linecolor": "white",
            "ticks": ""
           }
          },
          "title": {
           "x": 0.05
          },
          "xaxis": {
           "automargin": true,
           "gridcolor": "white",
           "linecolor": "white",
           "ticks": "",
           "title": {
            "standoff": 15
           },
           "zerolinecolor": "white",
           "zerolinewidth": 2
          },
          "yaxis": {
           "automargin": true,
           "gridcolor": "white",
           "linecolor": "white",
           "ticks": "",
           "title": {
            "standoff": 15
           },
           "zerolinecolor": "white",
           "zerolinewidth": 2
          }
         }
        },
        "title": {
         "text": "Total Jobs Over Time"
        },
        "xaxis": {
         "anchor": "y",
         "autorange": true,
         "domain": [
          0,
          1
         ],
         "range": [
          -0.6655967665240133,
          11.665596766524013
         ],
         "showgrid": false,
         "title": {
          "text": "Month"
         },
         "type": "category"
        },
        "yaxis": {
         "anchor": "x",
         "autorange": true,
         "domain": [
          0,
          1
         ],
         "range": [
          822.336898395722,
          1999.6631016042782
         ],
         "showgrid": false,
         "title": {
          "text": "Total Jobs"
         },
         "type": "linear"
        }
       }
      },
      "image/png": "[encoded data removed]"
     },
     "metadata": {},
     "output_type": "display_data"
    }
   ],
   "source": [
    "# Create interactive line chart\n",
    "fig_time = px.line(\n",
    "    monthly_job_counts,\n",
    "    x='month',\n",
    "    y='total_jobs',\n",
    "    title='Total Jobs Over Time',\n",
    "    markers=True,\n",
    "    text='total_jobs',\n",
    "    color_discrete_sequence=['purple']\n",
    ")\n",
    "\n",
    "fig_time.update_traces(textposition='top center', line=dict(width=3))\n",
    "\n",
    "fig_time.update_layout(\n",
    "    height=500,\n",
    "    plot_bgcolor='white',\n",
    "    xaxis_title='Month',\n",
    "    yaxis_title='Total Jobs',\n",
    "    showlegend=False\n",
    ")\n",
    "\n",
    "fig_time.update_xaxes(showgrid=False)\n",
    "fig_time.update_yaxes(showgrid=False)\n",
    "\n",
    "fig_time.show()"
   ]
  },
  {
   "cell_type": "markdown",
   "id": "a3dbfba7-5dd2-4a7a-91f9-46bd8966db84",
   "metadata": {},
   "source": [
    "## Total Jobs By Company_location"
   ]
  },
  {
   "cell_type": "code",
   "execution_count": 5,
   "id": "eea5960d-283c-4cad-bbb9-813e2f8bd3b0",
   "metadata": {},
   "outputs": [
    {
     "data": {
      "text/html": [
       "<div>\n",
       "<style scoped>\n",
       "    .dataframe tbody tr th:only-of-type {\n",
       "        vertical-align: middle;\n",
       "    }\n",
       "\n",
       "    .dataframe tbody tr th {\n",
       "        vertical-align: top;\n",
       "    }\n",
       "\n",
       "    .dataframe thead th {\n",
       "        text-align: right;\n",
       "    }\n",
       "</style>\n",
       "<table border=\"1\" class=\"dataframe\">\n",
       "  <thead>\n",
       "    <tr style=\"text-align: right;\">\n",
       "      <th></th>\n",
       "      <th>company_location</th>\n",
       "      <th>job_count</th>\n",
       "    </tr>\n",
       "  </thead>\n",
       "  <tbody>\n",
       "    <tr>\n",
       "      <th>0</th>\n",
       "      <td>Australia</td>\n",
       "      <td>732</td>\n",
       "    </tr>\n",
       "    <tr>\n",
       "      <th>1</th>\n",
       "      <td>Austria</td>\n",
       "      <td>765</td>\n",
       "    </tr>\n",
       "    <tr>\n",
       "      <th>2</th>\n",
       "      <td>Canada</td>\n",
       "      <td>769</td>\n",
       "    </tr>\n",
       "    <tr>\n",
       "      <th>3</th>\n",
       "      <td>China</td>\n",
       "      <td>763</td>\n",
       "    </tr>\n",
       "    <tr>\n",
       "      <th>4</th>\n",
       "      <td>Denmark</td>\n",
       "      <td>778</td>\n",
       "    </tr>\n",
       "    <tr>\n",
       "      <th>5</th>\n",
       "      <td>Finland</td>\n",
       "      <td>733</td>\n",
       "    </tr>\n",
       "    <tr>\n",
       "      <th>6</th>\n",
       "      <td>France</td>\n",
       "      <td>769</td>\n",
       "    </tr>\n",
       "    <tr>\n",
       "      <th>7</th>\n",
       "      <td>Germany</td>\n",
       "      <td>814</td>\n",
       "    </tr>\n",
       "    <tr>\n",
       "      <th>8</th>\n",
       "      <td>India</td>\n",
       "      <td>754</td>\n",
       "    </tr>\n",
       "    <tr>\n",
       "      <th>9</th>\n",
       "      <td>Ireland</td>\n",
       "      <td>750</td>\n",
       "    </tr>\n",
       "    <tr>\n",
       "      <th>10</th>\n",
       "      <td>Israel</td>\n",
       "      <td>751</td>\n",
       "    </tr>\n",
       "    <tr>\n",
       "      <th>11</th>\n",
       "      <td>Japan</td>\n",
       "      <td>733</td>\n",
       "    </tr>\n",
       "    <tr>\n",
       "      <th>12</th>\n",
       "      <td>Netherlands</td>\n",
       "      <td>731</td>\n",
       "    </tr>\n",
       "    <tr>\n",
       "      <th>13</th>\n",
       "      <td>Norway</td>\n",
       "      <td>721</td>\n",
       "    </tr>\n",
       "    <tr>\n",
       "      <th>14</th>\n",
       "      <td>Singapore</td>\n",
       "      <td>764</td>\n",
       "    </tr>\n",
       "    <tr>\n",
       "      <th>15</th>\n",
       "      <td>South Korea</td>\n",
       "      <td>722</td>\n",
       "    </tr>\n",
       "    <tr>\n",
       "      <th>16</th>\n",
       "      <td>Sweden</td>\n",
       "      <td>752</td>\n",
       "    </tr>\n",
       "    <tr>\n",
       "      <th>17</th>\n",
       "      <td>Switzerland</td>\n",
       "      <td>746</td>\n",
       "    </tr>\n",
       "    <tr>\n",
       "      <th>18</th>\n",
       "      <td>United Kingdom</td>\n",
       "      <td>729</td>\n",
       "    </tr>\n",
       "    <tr>\n",
       "      <th>19</th>\n",
       "      <td>United States</td>\n",
       "      <td>724</td>\n",
       "    </tr>\n",
       "  </tbody>\n",
       "</table>\n",
       "</div>"
      ],
      "text/plain": [
       "   company_location  job_count\n",
       "0         Australia        732\n",
       "1           Austria        765\n",
       "2            Canada        769\n",
       "3             China        763\n",
       "4           Denmark        778\n",
       "5           Finland        733\n",
       "6            France        769\n",
       "7           Germany        814\n",
       "8             India        754\n",
       "9           Ireland        750\n",
       "10           Israel        751\n",
       "11            Japan        733\n",
       "12      Netherlands        731\n",
       "13           Norway        721\n",
       "14        Singapore        764\n",
       "15      South Korea        722\n",
       "16           Sweden        752\n",
       "17      Switzerland        746\n",
       "18   United Kingdom        729\n",
       "19    United States        724"
      ]
     },
     "execution_count": 5,
     "metadata": {},
     "output_type": "execute_result"
    }
   ],
   "source": [
    "ai_jobs_location_df = ai_jobs_df.groupby('company_location').size().reset_index(name='job_count')\n",
    "ai_jobs_location_df"
   ]
  },
  {
   "cell_type": "code",
   "execution_count": 20,
   "id": "910f5486-4343-436d-bc51-8c93425e5a6a",
   "metadata": {},
   "outputs": [
    {
     "data": {
      "application/vnd.plotly.v1+json": {
       "config": {
        "plotlyServerURL": "https://plot.ly"
       },
       "data": [
        {
         "hovertemplate": "company_location=%{x}<br>job_count=%{text}<extra></extra>",
         "legendgroup": "",
         "marker": {
          "color": "rgb(103,0,31)",
          "pattern": {
           "shape": ""
          }
         },
         "name": "",
         "orientation": "v",
         "showlegend": false,
         "text": {
          "_inputArray": {
           "0": 814,
           "1": 778,
           "2": 769,
           "3": 769,
           "4": 765,
           "5": 764,
           "6": 763,
           "7": 754,
           "8": 752,
           "9": 751,
           "bdata": "AAAAAABwiUAAAAAAAFCIQAAAAAAACIhAAAAAAAAIiEAAAAAAAOiHQAAAAAAA4IdAAAAAAADYh0AAAAAAAJCHQAAAAAAAgIdAAAAAAAB4h0A=",
           "dtype": "f8",
           "shape": "10"
          },
          "bdata": "AAAAAABwiUAAAAAAAFCIQAAAAAAACIhAAAAAAAAIiEAAAAAAAOiHQAAAAAAA4IdAAAAAAADYh0AAAAAAAJCHQAAAAAAAgIdAAAAAAAB4h0A=",
          "dtype": "f8"
         },
         "textposition": "outside",
         "type": "bar",
         "x": [
          "Germany",
          "Denmark",
          "Canada",
          "France",
          "Austria",
          "Singapore",
          "China",
          "India",
          "Sweden",
          "Israel"
         ],
         "xaxis": "x",
         "y": {
          "_inputArray": {
           "0": 814,
           "1": 778,
           "2": 769,
           "3": 769,
           "4": 765,
           "5": 764,
           "6": 763,
           "7": 754,
           "8": 752,
           "9": 751,
           "bdata": "LgMKAwEDAQP9AvwC+wLyAvAC7wI=",
           "dtype": "i2",
           "shape": "10"
          },
          "bdata": "LgMKAwEDAQP9AvwC+wLyAvAC7wI=",
          "dtype": "i2"
         },
         "yaxis": "y"
        }
       ],
       "layout": {
        "barmode": "relative",
        "height": 700,
        "legend": {
         "tracegroupgap": 0
        },
        "margin": {
         "b": 50,
         "l": 50,
         "r": 50,
         "t": 50
        },
        "template": {
         "data": {
          "pie": [
           {
            "automargin": true,
            "type": "pie"
           }
          ],
          "scatter": [
           {
            "line": {
             "width": 3
            },
            "marker": {
             "size": 9
            },
            "type": "scatter"
           }
          ],
          "scatter3d": [
           {
            "line": {
             "width": 3
            },
            "marker": {
             "size": 9
            },
            "type": "scatter3d"
           }
          ],
          "scattergeo": [
           {
            "line": {
             "width": 3
            },
            "marker": {
             "size": 9
            },
            "type": "scattergeo"
           }
          ],
          "scattergl": [
           {
            "line": {
             "width": 3
            },
            "marker": {
             "size": 9
            },
            "type": "scattergl"
           }
          ],
          "scatterpolar": [
           {
            "line": {
             "width": 3
            },
            "marker": {
             "size": 9
            },
            "type": "scatterpolar"
           }
          ],
          "scatterpolargl": [
           {
            "line": {
             "width": 3
            },
            "marker": {
             "size": 9
            },
            "type": "scatterpolargl"
           }
          ],
          "scatterternary": [
           {
            "line": {
             "width": 3
            },
            "marker": {
             "size": 9
            },
            "type": "scatterternary"
           }
          ],
          "table": [
           {
            "cells": {
             "height": 30
            },
            "header": {
             "height": 36
            },
            "type": "table"
           }
          ]
         },
         "layout": {
          "font": {
           "size": 18
          },
          "xaxis": {
           "title": {
            "standoff": 15
           }
          },
          "yaxis": {
           "title": {
            "standoff": 15
           }
          }
         }
        },
        "title": {
         "text": "Top 10 AI Jobs  by Location "
        },
        "width": 1000,
        "xaxis": {
         "anchor": "y",
         "autorange": true,
         "domain": [
          0,
          1
         ],
         "range": [
          -0.5,
          9.5
         ],
         "title": {
          "text": " "
         },
         "type": "category"
        },
        "yaxis": {
         "anchor": "x",
         "domain": [
          0,
          1
         ],
         "range": [
          700,
          864
         ],
         "showgrid": false,
         "showticklabels": false,
         "title": {
          "text": " "
         },
         "type": "linear"
        }
       }
      },
      "image/png": "[encoded data removed]"
     },
     "metadata": {},
     "output_type": "display_data"
    }
   ],
   "source": [
    "num = 10\n",
    "Top_ai_jobs = ai_jobs_location_df.sort_values(by='job_count', ascending=False).head(num)\n",
    "\n",
    "fig = px.bar(\n",
    "    Top_ai_jobs,\n",
    "    x=\"company_location\",\n",
    "    y=\"job_count\",\n",
    "    title=f\"Top {num} AI Jobs  by Location \",\n",
    "    height=700,\n",
    "    width=1000,\n",
    "    color_discrete_sequence=px.colors.sequential.RdBu,\n",
    "    text='job_count'\n",
    ")\n",
    "\n",
    "fig.update_layout(\n",
    "    template=\"presentation\",\n",
    "    xaxis_title=\" \",\n",
    "    yaxis_title=\" \",\n",
    "    margin=dict(l=50, r=50, t=50, b=50),\n",
    "    yaxis=dict(range=[700, Top_ai_jobs['job_count'].max() + 50],showticklabels=False, showgrid = False)\n",
    ")\n",
    "\n",
    "fig.update_traces(textposition='outside')\n",
    "\n",
    "fig.show()\n",
    "\n"
   ]
  },
  {
   "cell_type": "markdown",
   "id": "cf9cc4de-39b6-41d7-a584-b3a7776f7131",
   "metadata": {},
   "source": [
    "## Average salary by Experience Level"
   ]
  },
  {
   "cell_type": "code",
   "execution_count": 21,
   "id": "ac7db44b-2bf4-46f3-986d-9231916b9094",
   "metadata": {},
   "outputs": [
    {
     "data": {
      "text/html": [
       "<div>\n",
       "<style scoped>\n",
       "    .dataframe tbody tr th:only-of-type {\n",
       "        vertical-align: middle;\n",
       "    }\n",
       "\n",
       "    .dataframe tbody tr th {\n",
       "        vertical-align: top;\n",
       "    }\n",
       "\n",
       "    .dataframe thead th {\n",
       "        text-align: right;\n",
       "    }\n",
       "</style>\n",
       "<table border=\"1\" class=\"dataframe\">\n",
       "  <thead>\n",
       "    <tr style=\"text-align: right;\">\n",
       "      <th></th>\n",
       "      <th>experience_level</th>\n",
       "      <th>salary_usd</th>\n",
       "    </tr>\n",
       "  </thead>\n",
       "  <tbody>\n",
       "    <tr>\n",
       "      <th>1</th>\n",
       "      <td>Expert</td>\n",
       "      <td>195605.868670</td>\n",
       "    </tr>\n",
       "    <tr>\n",
       "      <th>3</th>\n",
       "      <td>Senior</td>\n",
       "      <td>127431.064170</td>\n",
       "    </tr>\n",
       "    <tr>\n",
       "      <th>2</th>\n",
       "      <td>Mid level</td>\n",
       "      <td>91816.733621</td>\n",
       "    </tr>\n",
       "    <tr>\n",
       "      <th>0</th>\n",
       "      <td>Entry level</td>\n",
       "      <td>65828.636756</td>\n",
       "    </tr>\n",
       "  </tbody>\n",
       "</table>\n",
       "</div>"
      ],
      "text/plain": [
       "  experience_level     salary_usd\n",
       "1           Expert  195605.868670\n",
       "3           Senior  127431.064170\n",
       "2        Mid level   91816.733621\n",
       "0      Entry level   65828.636756"
      ]
     },
     "execution_count": 21,
     "metadata": {},
     "output_type": "execute_result"
    }
   ],
   "source": [
    "avg_salary_by_experience = ai_jobs_df.groupby('experience_level')['salary_usd'].mean().reset_index()\n",
    "avg_salary_by_experience = avg_salary_by_experience.sort_values(by='salary_usd', ascending=False)\n",
    "avg_salary_by_experience\n"
   ]
  },
  {
   "cell_type": "code",
   "execution_count": 22,
   "id": "8d236921-45e3-441d-bb5d-4f25f63b7bd1",
   "metadata": {},
   "outputs": [
    {
     "data": {
      "application/vnd.plotly.v1+json": {
       "config": {
        "plotlyServerURL": "https://plot.ly"
       },
       "data": [
        {
         "hovertemplate": "experience_level=%{x}<br>salary_usd=%{text}<extra></extra>",
         "legendgroup": "",
         "marker": {
          "color": "rgb(103,0,31)",
          "pattern": {
           "shape": ""
          }
         },
         "name": "",
         "orientation": "v",
         "showlegend": false,
         "text": {
          "_inputArray": {
           "0": 195605.86867021277,
           "1": 127431.06417000802,
           "2": 91816.73362073525,
           "3": 65828.6367563206,
           "bdata": "V14J867gB0FdIdcGcRz/QJkY6byLavZASGUnMEoS8EA=",
           "dtype": "f8",
           "shape": "4"
          },
          "bdata": "V14J867gB0FdIdcGcRz/QJkY6byLavZASGUnMEoS8EA=",
          "dtype": "f8"
         },
         "textposition": "outside",
         "texttemplate": "$%{text:,.0f}",
         "type": "bar",
         "x": [
          "Expert",
          "Senior",
          "Mid level",
          "Entry level"
         ],
         "xaxis": "x",
         "y": {
          "_inputArray": {
           "0": 195605.86867021277,
           "1": 127431.06417000802,
           "2": 91816.73362073525,
           "3": 65828.6367563206,
           "bdata": "V14J867gB0FdIdcGcRz/QJkY6byLavZASGUnMEoS8EA=",
           "dtype": "f8",
           "shape": "4"
          },
          "bdata": "V14J867gB0FdIdcGcRz/QJkY6byLavZASGUnMEoS8EA=",
          "dtype": "f8"
         },
         "yaxis": "y"
        }
       ],
       "layout": {
        "barmode": "relative",
        "height": 600,
        "legend": {
         "tracegroupgap": 0
        },
        "template": {
         "data": {
          "pie": [
           {
            "automargin": true,
            "type": "pie"
           }
          ],
          "scatter": [
           {
            "line": {
             "width": 3
            },
            "marker": {
             "size": 9
            },
            "type": "scatter"
           }
          ],
          "scatter3d": [
           {
            "line": {
             "width": 3
            },
            "marker": {
             "size": 9
            },
            "type": "scatter3d"
           }
          ],
          "scattergeo": [
           {
            "line": {
             "width": 3
            },
            "marker": {
             "size": 9
            },
            "type": "scattergeo"
           }
          ],
          "scattergl": [
           {
            "line": {
             "width": 3
            },
            "marker": {
             "size": 9
            },
            "type": "scattergl"
           }
          ],
          "scatterpolar": [
           {
            "line": {
             "width": 3
            },
            "marker": {
             "size": 9
            },
            "type": "scatterpolar"
           }
          ],
          "scatterpolargl": [
           {
            "line": {
             "width": 3
            },
            "marker": {
             "size": 9
            },
            "type": "scatterpolargl"
           }
          ],
          "scatterternary": [
           {
            "line": {
             "width": 3
            },
            "marker": {
             "size": 9
            },
            "type": "scatterternary"
           }
          ],
          "table": [
           {
            "cells": {
             "height": 30
            },
            "header": {
             "height": 36
            },
            "type": "table"
           }
          ]
         },
         "layout": {
          "font": {
           "size": 18
          },
          "xaxis": {
           "title": {
            "standoff": 15
           }
          },
          "yaxis": {
           "title": {
            "standoff": 15
           }
          }
         }
        },
        "title": {
         "text": "Average Salary by Experience Level"
        },
        "width": 800,
        "xaxis": {
         "anchor": "y",
         "autorange": true,
         "domain": [
          0,
          1
         ],
         "range": [
          -0.5,
          3.5
         ],
         "title": {
          "text": ""
         },
         "type": "category"
        },
        "yaxis": {
         "anchor": "x",
         "autorange": true,
         "domain": [
          0,
          1
         ],
         "range": [
          0,
          205900.91438969766
         ],
         "showgrid": false,
         "showticklabels": false,
         "title": {
          "text": " "
         },
         "type": "linear"
        }
       }
      },
      "image/png": "[encoded data removed]"
     },
     "metadata": {},
     "output_type": "display_data"
    }
   ],
   "source": [
    "fig = px.bar(\n",
    "    avg_salary_by_experience,\n",
    "    x='experience_level',\n",
    "    y='salary_usd',\n",
    "    title='Average Salary by Experience Level',\n",
    "    text='salary_usd',\n",
    "    color_discrete_sequence=px.colors.sequential.RdBu,\n",
    "    height=600,\n",
    "    width=800\n",
    ")\n",
    "\n",
    "fig.update_layout(\n",
    "    template='presentation',\n",
    "    xaxis_title='',  \n",
    "    yaxis_title=' ',\n",
    "    yaxis=dict(showgrid=False, showticklabels=False)\n",
    ")\n",
    "\n",
    "fig.update_traces(texttemplate='$%{text:,.0f}', textposition='outside')  # formatted salary labels\n",
    "\n",
    "fig.show()"
   ]
  },
  {
   "cell_type": "markdown",
   "id": "875a69e1-8fe7-4ba3-bf6e-faf1dc24cd58",
   "metadata": {},
   "source": [
    "## Education Required by Total Jobs"
   ]
  },
  {
   "cell_type": "code",
   "execution_count": 23,
   "id": "1be53627-f4be-48a4-9546-8fe3b20e2cc4",
   "metadata": {},
   "outputs": [
    {
     "data": {
      "text/html": [
       "<div>\n",
       "<style scoped>\n",
       "    .dataframe tbody tr th:only-of-type {\n",
       "        vertical-align: middle;\n",
       "    }\n",
       "\n",
       "    .dataframe tbody tr th {\n",
       "        vertical-align: top;\n",
       "    }\n",
       "\n",
       "    .dataframe thead th {\n",
       "        text-align: right;\n",
       "    }\n",
       "</style>\n",
       "<table border=\"1\" class=\"dataframe\">\n",
       "  <thead>\n",
       "    <tr style=\"text-align: right;\">\n",
       "      <th></th>\n",
       "      <th>education_required</th>\n",
       "      <th>job_count</th>\n",
       "    </tr>\n",
       "  </thead>\n",
       "  <tbody>\n",
       "    <tr>\n",
       "      <th>0</th>\n",
       "      <td>Bachelor</td>\n",
       "      <td>3789</td>\n",
       "    </tr>\n",
       "    <tr>\n",
       "      <th>1</th>\n",
       "      <td>Associate</td>\n",
       "      <td>3785</td>\n",
       "    </tr>\n",
       "    <tr>\n",
       "      <th>2</th>\n",
       "      <td>Master</td>\n",
       "      <td>3748</td>\n",
       "    </tr>\n",
       "    <tr>\n",
       "      <th>3</th>\n",
       "      <td>PhD</td>\n",
       "      <td>3678</td>\n",
       "    </tr>\n",
       "  </tbody>\n",
       "</table>\n",
       "</div>"
      ],
      "text/plain": [
       "  education_required  job_count\n",
       "0           Bachelor       3789\n",
       "1          Associate       3785\n",
       "2             Master       3748\n",
       "3                PhD       3678"
      ]
     },
     "execution_count": 23,
     "metadata": {},
     "output_type": "execute_result"
    }
   ],
   "source": [
    "education_counts = ai_jobs_df['education_required'].value_counts().reset_index()\n",
    "education_counts.columns = ['education_required', 'job_count']\n",
    "education_counts\n"
   ]
  },
  {
   "cell_type": "code",
   "execution_count": 24,
   "id": "e3d8c43b-5c4e-4ffa-8f05-5ce43ed4e453",
   "metadata": {},
   "outputs": [
    {
     "data": {
      "application/vnd.plotly.v1+json": {
       "config": {
        "plotlyServerURL": "https://plot.ly"
       },
       "data": [
        {
         "domain": {
          "x": [
           0,
           1
          ],
          "y": [
           0,
           1
          ]
         },
         "hovertemplate": "education_required=%{label}<br>job_count=%{value}<extra></extra>",
         "labels": [
          "Bachelor",
          "Associate",
          "Master",
          "PhD"
         ],
         "legendgroup": "",
         "name": "",
         "showlegend": true,
         "textinfo": "label+percent",
         "textposition": "inside",
         "type": "pie",
         "values": {
          "_inputArray": {
           "0": 3789,
           "1": 3785,
           "2": 3748,
           "3": 3678,
           "bdata": "zQ7JDqQOXg4=",
           "dtype": "i2",
           "shape": "4"
          },
          "bdata": "zQ7JDqQOXg4=",
          "dtype": "i2"
         }
        }
       ],
       "layout": {
        "height": 600,
        "legend": {
         "tracegroupgap": 0
        },
        "piecolorway": [
         "rgb(103,0,31)",
         "rgb(178,24,43)",
         "rgb(214,96,77)",
         "rgb(244,165,130)",
         "rgb(253,219,199)",
         "rgb(247,247,247)",
         "rgb(209,229,240)",
         "rgb(146,197,222)",
         "rgb(67,147,195)",
         "rgb(33,102,172)",
         "rgb(5,48,97)"
        ],
        "template": {
         "data": {
          "pie": [
           {
            "automargin": true,
            "type": "pie"
           }
          ],
          "scatter": [
           {
            "line": {
             "width": 3
            },
            "marker": {
             "size": 9
            },
            "type": "scatter"
           }
          ],
          "scatter3d": [
           {
            "line": {
             "width": 3
            },
            "marker": {
             "size": 9
            },
            "type": "scatter3d"
           }
          ],
          "scattergeo": [
           {
            "line": {
             "width": 3
            },
            "marker": {
             "size": 9
            },
            "type": "scattergeo"
           }
          ],
          "scattergl": [
           {
            "line": {
             "width": 3
            },
            "marker": {
             "size": 9
            },
            "type": "scattergl"
           }
          ],
          "scatterpolar": [
           {
            "line": {
             "width": 3
            },
            "marker": {
             "size": 9
            },
            "type": "scatterpolar"
           }
          ],
          "scatterpolargl": [
           {
            "line": {
             "width": 3
            },
            "marker": {
             "size": 9
            },
            "type": "scatterpolargl"
           }
          ],
          "scatterternary": [
           {
            "line": {
             "width": 3
            },
            "marker": {
             "size": 9
            },
            "type": "scatterternary"
           }
          ],
          "table": [
           {
            "cells": {
             "height": 30
            },
            "header": {
             "height": 36
            },
            "type": "table"
           }
          ]
         },
         "layout": {
          "font": {
           "size": 18
          },
          "xaxis": {
           "title": {
            "standoff": 15
           }
          },
          "yaxis": {
           "title": {
            "standoff": 15
           }
          }
         }
        },
        "title": {
         "text": "Education Required by Total Jobs"
        },
        "width": 700
       }
      },
      "image/png": "[encoded data removed]"
     },
     "metadata": {},
     "output_type": "display_data"
    }
   ],
   "source": [
    "fig = px.pie(\n",
    "    education_counts,\n",
    "    names='education_required',\n",
    "    values='job_count',\n",
    "    title='Education Required by Total Jobs',\n",
    "    color_discrete_sequence=px.colors.sequential.RdBu\n",
    ")\n",
    "\n",
    "fig.update_traces(\n",
    "    textinfo='label+percent',\n",
    "    textposition='inside'\n",
    ")\n",
    "\n",
    "fig.update_layout(\n",
    "    template='presentation',\n",
    "    height=600,\n",
    "    width=700\n",
    ")\n",
    "\n",
    "fig.show()\n"
   ]
  },
  {
   "cell_type": "markdown",
   "id": "081c0e9e-000b-49b6-a957-df0c37d05562",
   "metadata": {},
   "source": [
    "## Employment type by Total Jobs"
   ]
  },
  {
   "cell_type": "code",
   "execution_count": 25,
   "id": "ec07e5f4-4056-4240-a1e4-ff46208824af",
   "metadata": {},
   "outputs": [
    {
     "data": {
      "text/html": [
       "<div>\n",
       "<style scoped>\n",
       "    .dataframe tbody tr th:only-of-type {\n",
       "        vertical-align: middle;\n",
       "    }\n",
       "\n",
       "    .dataframe tbody tr th {\n",
       "        vertical-align: top;\n",
       "    }\n",
       "\n",
       "    .dataframe thead th {\n",
       "        text-align: right;\n",
       "    }\n",
       "</style>\n",
       "<table border=\"1\" class=\"dataframe\">\n",
       "  <thead>\n",
       "    <tr style=\"text-align: right;\">\n",
       "      <th></th>\n",
       "      <th>employment_type</th>\n",
       "      <th>job_count</th>\n",
       "    </tr>\n",
       "  </thead>\n",
       "  <tbody>\n",
       "    <tr>\n",
       "      <th>0</th>\n",
       "      <td>Full time</td>\n",
       "      <td>3812</td>\n",
       "    </tr>\n",
       "    <tr>\n",
       "      <th>1</th>\n",
       "      <td>Freelance</td>\n",
       "      <td>3758</td>\n",
       "    </tr>\n",
       "    <tr>\n",
       "      <th>2</th>\n",
       "      <td>Contract</td>\n",
       "      <td>3721</td>\n",
       "    </tr>\n",
       "    <tr>\n",
       "      <th>3</th>\n",
       "      <td>Part time</td>\n",
       "      <td>3709</td>\n",
       "    </tr>\n",
       "  </tbody>\n",
       "</table>\n",
       "</div>"
      ],
      "text/plain": [
       "  employment_type  job_count\n",
       "0       Full time       3812\n",
       "1       Freelance       3758\n",
       "2        Contract       3721\n",
       "3       Part time       3709"
      ]
     },
     "execution_count": 25,
     "metadata": {},
     "output_type": "execute_result"
    }
   ],
   "source": [
    "employmenttype_counts = ai_jobs_df['employment_type'].value_counts().reset_index()\n",
    "employmenttype_counts.columns = ['employment_type', 'job_count']\n",
    "employmenttype_counts\n"
   ]
  },
  {
   "cell_type": "code",
   "execution_count": 26,
   "id": "9e36595b-5ce1-4635-b1a7-354ce216138b",
   "metadata": {},
   "outputs": [
    {
     "data": {
      "application/vnd.plotly.v1+json": {
       "config": {
        "plotlyServerURL": "https://plot.ly"
       },
       "data": [
        {
         "domain": {
          "x": [
           0,
           1
          ],
          "y": [
           0,
           1
          ]
         },
         "hovertemplate": "employment_type=%{label}<br>job_count=%{value}<extra></extra>",
         "labels": [
          "Full time",
          "Freelance",
          "Contract",
          "Part time"
         ],
         "legendgroup": "",
         "name": "",
         "showlegend": true,
         "textinfo": "label+percent",
         "textposition": "inside",
         "type": "pie",
         "values": {
          "_inputArray": {
           "0": 3812,
           "1": 3758,
           "2": 3721,
           "3": 3709,
           "bdata": "5A6uDokOfQ4=",
           "dtype": "i2",
           "shape": "4"
          },
          "bdata": "5A6uDokOfQ4=",
          "dtype": "i2"
         }
        }
       ],
       "layout": {
        "height": 600,
        "legend": {
         "tracegroupgap": 0
        },
        "piecolorway": [
         "rgb(103,0,31)",
         "rgb(178,24,43)",
         "rgb(214,96,77)",
         "rgb(244,165,130)",
         "rgb(253,219,199)",
         "rgb(247,247,247)",
         "rgb(209,229,240)",
         "rgb(146,197,222)",
         "rgb(67,147,195)",
         "rgb(33,102,172)",
         "rgb(5,48,97)"
        ],
        "template": {
         "data": {
          "pie": [
           {
            "automargin": true,
            "type": "pie"
           }
          ],
          "scatter": [
           {
            "line": {
             "width": 3
            },
            "marker": {
             "size": 9
            },
            "type": "scatter"
           }
          ],
          "scatter3d": [
           {
            "line": {
             "width": 3
            },
            "marker": {
             "size": 9
            },
            "type": "scatter3d"
           }
          ],
          "scattergeo": [
           {
            "line": {
             "width": 3
            },
            "marker": {
             "size": 9
            },
            "type": "scattergeo"
           }
          ],
          "scattergl": [
           {
            "line": {
             "width": 3
            },
            "marker": {
             "size": 9
            },
            "type": "scattergl"
           }
          ],
          "scatterpolar": [
           {
            "line": {
             "width": 3
            },
            "marker": {
             "size": 9
            },
            "type": "scatterpolar"
           }
          ],
          "scatterpolargl": [
           {
            "line": {
             "width": 3
            },
            "marker": {
             "size": 9
            },
            "type": "scatterpolargl"
           }
          ],
          "scatterternary": [
           {
            "line": {
             "width": 3
            },
            "marker": {
             "size": 9
            },
            "type": "scatterternary"
           }
          ],
          "table": [
           {
            "cells": {
             "height": 30
            },
            "header": {
             "height": 36
            },
            "type": "table"
           }
          ]
         },
         "layout": {
          "font": {
           "size": 18
          },
          "xaxis": {
           "title": {
            "standoff": 15
           }
          },
          "yaxis": {
           "title": {
            "standoff": 15
           }
          }
         }
        },
        "title": {
         "text": "Employment Type by Total Jobs"
        },
        "width": 700
       }
      },
      "image/png": "[encoded data removed]"
     },
     "metadata": {},
     "output_type": "display_data"
    }
   ],
   "source": [
    "fig = px.pie(\n",
    "    employmenttype_counts,\n",
    "    names='employment_type',\n",
    "    values='job_count',\n",
    "    title='Employment Type by Total Jobs',\n",
    "    color_discrete_sequence=px.colors.sequential.RdBu\n",
    ")\n",
    "\n",
    "fig.update_traces(\n",
    "    textinfo='label+percent',\n",
    "    textposition='inside'\n",
    ")\n",
    "\n",
    "fig.update_layout(\n",
    "    template='presentation',\n",
    "    height=600,\n",
    "    width=700\n",
    ")\n",
    "\n",
    "fig.show()"
   ]
  },
  {
   "cell_type": "markdown",
   "id": "214f1a76-1859-453a-bdc6-f28a9d6001e0",
   "metadata": {},
   "source": [
    "## Top Hiring Companies"
   ]
  },
  {
   "cell_type": "code",
   "execution_count": 27,
   "id": "81c4b958-2115-4f3e-bfa9-fbf8350ccc20",
   "metadata": {},
   "outputs": [
    {
     "data": {
      "text/html": [
       "<div>\n",
       "<style scoped>\n",
       "    .dataframe tbody tr th:only-of-type {\n",
       "        vertical-align: middle;\n",
       "    }\n",
       "\n",
       "    .dataframe tbody tr th {\n",
       "        vertical-align: top;\n",
       "    }\n",
       "\n",
       "    .dataframe thead th {\n",
       "        text-align: right;\n",
       "    }\n",
       "</style>\n",
       "<table border=\"1\" class=\"dataframe\">\n",
       "  <thead>\n",
       "    <tr style=\"text-align: right;\">\n",
       "      <th></th>\n",
       "      <th>company_name</th>\n",
       "      <th>job_count</th>\n",
       "    </tr>\n",
       "  </thead>\n",
       "  <tbody>\n",
       "    <tr>\n",
       "      <th>2</th>\n",
       "      <td>Algorithmic Solutions</td>\n",
       "      <td>885</td>\n",
       "    </tr>\n",
       "    <tr>\n",
       "      <th>7</th>\n",
       "      <td>DeepTech Ventures</td>\n",
       "      <td>897</td>\n",
       "    </tr>\n",
       "    <tr>\n",
       "      <th>6</th>\n",
       "      <td>DataVision Ltd</td>\n",
       "      <td>909</td>\n",
       "    </tr>\n",
       "    <tr>\n",
       "      <th>3</th>\n",
       "      <td>Autonomous Tech</td>\n",
       "      <td>918</td>\n",
       "    </tr>\n",
       "    <tr>\n",
       "      <th>10</th>\n",
       "      <td>Machine Intelligence Group</td>\n",
       "      <td>922</td>\n",
       "    </tr>\n",
       "    <tr>\n",
       "      <th>11</th>\n",
       "      <td>Neural Networks Co</td>\n",
       "      <td>922</td>\n",
       "    </tr>\n",
       "    <tr>\n",
       "      <th>1</th>\n",
       "      <td>Advanced Robotics</td>\n",
       "      <td>925</td>\n",
       "    </tr>\n",
       "    <tr>\n",
       "      <th>14</th>\n",
       "      <td>Smart Analytics</td>\n",
       "      <td>927</td>\n",
       "    </tr>\n",
       "    <tr>\n",
       "      <th>12</th>\n",
       "      <td>Predictive Systems</td>\n",
       "      <td>947</td>\n",
       "    </tr>\n",
       "    <tr>\n",
       "      <th>4</th>\n",
       "      <td>Cloud AI Solutions</td>\n",
       "      <td>951</td>\n",
       "    </tr>\n",
       "    <tr>\n",
       "      <th>9</th>\n",
       "      <td>Future Systems</td>\n",
       "      <td>960</td>\n",
       "    </tr>\n",
       "    <tr>\n",
       "      <th>13</th>\n",
       "      <td>Quantum Computing Inc</td>\n",
       "      <td>960</td>\n",
       "    </tr>\n",
       "    <tr>\n",
       "      <th>8</th>\n",
       "      <td>Digital Transformation LLC</td>\n",
       "      <td>961</td>\n",
       "    </tr>\n",
       "    <tr>\n",
       "      <th>0</th>\n",
       "      <td>AI Innovations</td>\n",
       "      <td>964</td>\n",
       "    </tr>\n",
       "    <tr>\n",
       "      <th>5</th>\n",
       "      <td>Cognitive Computing</td>\n",
       "      <td>972</td>\n",
       "    </tr>\n",
       "    <tr>\n",
       "      <th>15</th>\n",
       "      <td>TechCorp Inc</td>\n",
       "      <td>980</td>\n",
       "    </tr>\n",
       "  </tbody>\n",
       "</table>\n",
       "</div>"
      ],
      "text/plain": [
       "                  company_name  job_count\n",
       "2        Algorithmic Solutions        885\n",
       "7            DeepTech Ventures        897\n",
       "6               DataVision Ltd        909\n",
       "3              Autonomous Tech        918\n",
       "10  Machine Intelligence Group        922\n",
       "11          Neural Networks Co        922\n",
       "1            Advanced Robotics        925\n",
       "14             Smart Analytics        927\n",
       "12          Predictive Systems        947\n",
       "4           Cloud AI Solutions        951\n",
       "9               Future Systems        960\n",
       "13       Quantum Computing Inc        960\n",
       "8   Digital Transformation LLC        961\n",
       "0               AI Innovations        964\n",
       "5          Cognitive Computing        972\n",
       "15                TechCorp Inc        980"
      ]
     },
     "execution_count": 27,
     "metadata": {},
     "output_type": "execute_result"
    }
   ],
   "source": [
    "company_counts = ai_jobs_df.groupby('company_name').size().reset_index(name='job_count').sort_values(by='job_count',ascending = True)\n",
    "company_counts\n"
   ]
  },
  {
   "cell_type": "code",
   "execution_count": 28,
   "id": "8384cae6-21ab-4241-9599-a19d35b9deef",
   "metadata": {},
   "outputs": [
    {
     "data": {
      "application/vnd.plotly.v1+json": {
       "config": {
        "plotlyServerURL": "https://plot.ly"
       },
       "data": [
        {
         "hovertemplate": "job_count=%{text}<br>company_name=%{y}<extra></extra>",
         "legendgroup": "",
         "marker": {
          "color": "rgb(103,0,31)",
          "pattern": {
           "shape": ""
          }
         },
         "name": "",
         "orientation": "h",
         "showlegend": false,
         "text": {
          "_inputArray": {
           "0": 885,
           "1": 897,
           "10": 960,
           "11": 960,
           "12": 961,
           "13": 964,
           "14": 972,
           "15": 980,
           "2": 909,
           "3": 918,
           "4": 922,
           "5": 922,
           "6": 925,
           "7": 927,
           "8": 947,
           "9": 951,
           "bdata": "AAAAAACoi0AAAAAAAAiMQAAAAAAAaIxAAAAAAACwjEAAAAAAANCMQAAAAAAA0IxAAAAAAADojEAAAAAAAPiMQAAAAAAAmI1AAAAAAAC4jUAAAAAAAACOQAAAAAAAAI5AAAAAAAAIjkAAAAAAACCOQAAAAAAAYI5AAAAAAACgjkA=",
           "dtype": "f8",
           "shape": "16"
          },
          "bdata": "AAAAAACoi0AAAAAAAAiMQAAAAAAAaIxAAAAAAACwjEAAAAAAANCMQAAAAAAA0IxAAAAAAADojEAAAAAAAPiMQAAAAAAAmI1AAAAAAAC4jUAAAAAAAACOQAAAAAAAAI5AAAAAAAAIjkAAAAAAACCOQAAAAAAAYI5AAAAAAACgjkA=",
          "dtype": "f8"
         },
         "textposition": "outside",
         "type": "bar",
         "x": {
          "_inputArray": {
           "0": 885,
           "1": 897,
           "10": 960,
           "11": 960,
           "12": 961,
           "13": 964,
           "14": 972,
           "15": 980,
           "2": 909,
           "3": 918,
           "4": 922,
           "5": 922,
           "6": 925,
           "7": 927,
           "8": 947,
           "9": 951,
           "bdata": "dQOBA40DlgOaA5oDnQOfA7MDtwPAA8ADwQPEA8wD1AM=",
           "dtype": "i2",
           "shape": "16"
          },
          "bdata": "dQOBA40DlgOaA5oDnQOfA7MDtwPAA8ADwQPEA8wD1AM=",
          "dtype": "i2"
         },
         "xaxis": "x",
         "y": [
          "Algorithmic Solutions",
          "DeepTech Ventures",
          "DataVision Ltd",
          "Autonomous Tech",
          "Machine Intelligence Group",
          "Neural Networks Co",
          "Advanced Robotics",
          "Smart Analytics",
          "Predictive Systems",
          "Cloud AI Solutions",
          "Future Systems",
          "Quantum Computing Inc",
          "Digital Transformation LLC",
          "AI Innovations",
          "Cognitive Computing",
          "TechCorp Inc"
         ],
         "yaxis": "y"
        }
       ],
       "layout": {
        "barmode": "relative",
        "height": 700,
        "legend": {
         "tracegroupgap": 0
        },
        "margin": {
         "b": 50,
         "l": 200,
         "r": 50,
         "t": 50
        },
        "template": {
         "data": {
          "pie": [
           {
            "automargin": true,
            "type": "pie"
           }
          ],
          "scatter": [
           {
            "line": {
             "width": 3
            },
            "marker": {
             "size": 9
            },
            "type": "scatter"
           }
          ],
          "scatter3d": [
           {
            "line": {
             "width": 3
            },
            "marker": {
             "size": 9
            },
            "type": "scatter3d"
           }
          ],
          "scattergeo": [
           {
            "line": {
             "width": 3
            },
            "marker": {
             "size": 9
            },
            "type": "scattergeo"
           }
          ],
          "scattergl": [
           {
            "line": {
             "width": 3
            },
            "marker": {
             "size": 9
            },
            "type": "scattergl"
           }
          ],
          "scatterpolar": [
           {
            "line": {
             "width": 3
            },
            "marker": {
             "size": 9
            },
            "type": "scatterpolar"
           }
          ],
          "scatterpolargl": [
           {
            "line": {
             "width": 3
            },
            "marker": {
             "size": 9
            },
            "type": "scatterpolargl"
           }
          ],
          "scatterternary": [
           {
            "line": {
             "width": 3
            },
            "marker": {
             "size": 9
            },
            "type": "scatterternary"
           }
          ],
          "table": [
           {
            "cells": {
             "height": 30
            },
            "header": {
             "height": 36
            },
            "type": "table"
           }
          ]
         },
         "layout": {
          "font": {
           "size": 18
          },
          "xaxis": {
           "title": {
            "standoff": 15
           }
          },
          "yaxis": {
           "title": {
            "standoff": 15
           }
          }
         }
        },
        "title": {
         "text": "Top Hiring Companies"
        },
        "width": 1000,
        "xaxis": {
         "anchor": "y",
         "domain": [
          0,
          1
         ],
         "range": [
          800,
          1000
         ],
         "showticklabels": false,
         "title": {
          "text": " "
         },
         "type": "linear"
        },
        "yaxis": {
         "anchor": "x",
         "autorange": true,
         "domain": [
          0,
          1
         ],
         "range": [
          -0.5,
          15.5
         ],
         "showgrid": false,
         "showticklabels": true,
         "title": {
          "text": " "
         },
         "type": "category"
        }
       }
      },
      "image/png": "[encoded data removed]"
     },
     "metadata": {},
     "output_type": "display_data"
    }
   ],
   "source": [
    "fig = px.bar(\n",
    "    company_counts,\n",
    "    x=\"job_count\",\n",
    "    y=\"company_name\",\n",
    "    title=\"Top Hiring Companies\",\n",
    "    orientation='h',\n",
    "    height=700,\n",
    "    width=1000,\n",
    "    color_discrete_sequence=px.colors.sequential.RdBu,\n",
    "    text='job_count'\n",
    ")\n",
    "\n",
    "fig.update_layout(\n",
    "    template=\"presentation\",\n",
    "    xaxis_title=\" \",\n",
    "    yaxis_title=\" \",\n",
    "    xaxis=dict(range=[800, company_counts['job_count'].max() + 20], showticklabels=False),\n",
    "    margin=dict(l=200, r=50, t=50, b=50),\n",
    "    yaxis=dict(showticklabels=True, showgrid=False)\n",
    ")\n",
    "\n",
    "fig.update_traces(textposition='outside')\n",
    "\n",
    "fig.show()\n"
   ]
  },
  {
   "cell_type": "markdown",
   "id": "9ba12376-52bc-4b20-9dc2-adb02aff5162",
   "metadata": {},
   "source": [
    "## AI Employment Opportunities by Industry"
   ]
  },
  {
   "cell_type": "code",
   "execution_count": 29,
   "id": "610b0e1c-41a5-4ef1-89a1-fe3c4cf53d8c",
   "metadata": {},
   "outputs": [
    {
     "data": {
      "text/html": [
       "<div>\n",
       "<style scoped>\n",
       "    .dataframe tbody tr th:only-of-type {\n",
       "        vertical-align: middle;\n",
       "    }\n",
       "\n",
       "    .dataframe tbody tr th {\n",
       "        vertical-align: top;\n",
       "    }\n",
       "\n",
       "    .dataframe thead th {\n",
       "        text-align: right;\n",
       "    }\n",
       "</style>\n",
       "<table border=\"1\" class=\"dataframe\">\n",
       "  <thead>\n",
       "    <tr style=\"text-align: right;\">\n",
       "      <th></th>\n",
       "      <th>industry</th>\n",
       "      <th>job_count</th>\n",
       "    </tr>\n",
       "  </thead>\n",
       "  <tbody>\n",
       "    <tr>\n",
       "      <th>2</th>\n",
       "      <td>Education</td>\n",
       "      <td>956</td>\n",
       "    </tr>\n",
       "    <tr>\n",
       "      <th>8</th>\n",
       "      <td>Manufacturing</td>\n",
       "      <td>962</td>\n",
       "    </tr>\n",
       "    <tr>\n",
       "      <th>5</th>\n",
       "      <td>Gaming</td>\n",
       "      <td>967</td>\n",
       "    </tr>\n",
       "    <tr>\n",
       "      <th>3</th>\n",
       "      <td>Energy</td>\n",
       "      <td>976</td>\n",
       "    </tr>\n",
       "    <tr>\n",
       "      <th>4</th>\n",
       "      <td>Finance</td>\n",
       "      <td>984</td>\n",
       "    </tr>\n",
       "    <tr>\n",
       "      <th>7</th>\n",
       "      <td>Healthcare</td>\n",
       "      <td>997</td>\n",
       "    </tr>\n",
       "    <tr>\n",
       "      <th>13</th>\n",
       "      <td>Telecommunications</td>\n",
       "      <td>997</td>\n",
       "    </tr>\n",
       "    <tr>\n",
       "      <th>14</th>\n",
       "      <td>Transportation</td>\n",
       "      <td>997</td>\n",
       "    </tr>\n",
       "    <tr>\n",
       "      <th>6</th>\n",
       "      <td>Government</td>\n",
       "      <td>998</td>\n",
       "    </tr>\n",
       "    <tr>\n",
       "      <th>10</th>\n",
       "      <td>Real Estate</td>\n",
       "      <td>1007</td>\n",
       "    </tr>\n",
       "    <tr>\n",
       "      <th>12</th>\n",
       "      <td>Technology</td>\n",
       "      <td>1011</td>\n",
       "    </tr>\n",
       "    <tr>\n",
       "      <th>0</th>\n",
       "      <td>Automotive</td>\n",
       "      <td>1020</td>\n",
       "    </tr>\n",
       "    <tr>\n",
       "      <th>1</th>\n",
       "      <td>Consulting</td>\n",
       "      <td>1020</td>\n",
       "    </tr>\n",
       "    <tr>\n",
       "      <th>9</th>\n",
       "      <td>Media</td>\n",
       "      <td>1045</td>\n",
       "    </tr>\n",
       "    <tr>\n",
       "      <th>11</th>\n",
       "      <td>Retail</td>\n",
       "      <td>1063</td>\n",
       "    </tr>\n",
       "  </tbody>\n",
       "</table>\n",
       "</div>"
      ],
      "text/plain": [
       "              industry  job_count\n",
       "2            Education        956\n",
       "8        Manufacturing        962\n",
       "5               Gaming        967\n",
       "3               Energy        976\n",
       "4              Finance        984\n",
       "7           Healthcare        997\n",
       "13  Telecommunications        997\n",
       "14      Transportation        997\n",
       "6           Government        998\n",
       "10         Real Estate       1007\n",
       "12          Technology       1011\n",
       "0           Automotive       1020\n",
       "1           Consulting       1020\n",
       "9                Media       1045\n",
       "11              Retail       1063"
      ]
     },
     "execution_count": 29,
     "metadata": {},
     "output_type": "execute_result"
    }
   ],
   "source": [
    "industry_counts = ai_jobs_df.groupby('industry').size().reset_index(name='job_count').sort_values(by='job_count',ascending = True)\n",
    "industry_counts"
   ]
  },
  {
   "cell_type": "code",
   "execution_count": 30,
   "id": "5ce8e9b3-9ca7-4049-b6bf-3922742d6ad9",
   "metadata": {},
   "outputs": [
    {
     "data": {
      "application/vnd.plotly.v1+json": {
       "config": {
        "plotlyServerURL": "https://plot.ly"
       },
       "data": [
        {
         "hovertemplate": "job_count=%{text}<br>industry=%{y}<extra></extra>",
         "legendgroup": "",
         "marker": {
          "color": "rgb(103,0,31)",
          "pattern": {
           "shape": ""
          }
         },
         "name": "",
         "orientation": "h",
         "showlegend": false,
         "text": {
          "_inputArray": {
           "0": 956,
           "1": 962,
           "10": 1011,
           "11": 1020,
           "12": 1020,
           "13": 1045,
           "14": 1063,
           "2": 967,
           "3": 976,
           "4": 984,
           "5": 997,
           "6": 997,
           "7": 997,
           "8": 998,
           "9": 1007,
           "bdata": "AAAAAADgjUAAAAAAABCOQAAAAAAAOI5AAAAAAACAjkAAAAAAAMCOQAAAAAAAKI9AAAAAAAAoj0AAAAAAACiPQAAAAAAAMI9AAAAAAAB4j0AAAAAAAJiPQAAAAAAA4I9AAAAAAADgj0AAAAAAAFSQQAAAAAAAnJBA",
           "dtype": "f8",
           "shape": "15"
          },
          "bdata": "AAAAAADgjUAAAAAAABCOQAAAAAAAOI5AAAAAAACAjkAAAAAAAMCOQAAAAAAAKI9AAAAAAAAoj0AAAAAAACiPQAAAAAAAMI9AAAAAAAB4j0AAAAAAAJiPQAAAAAAA4I9AAAAAAADgj0AAAAAAAFSQQAAAAAAAnJBA",
          "dtype": "f8"
         },
         "textposition": "outside",
         "type": "bar",
         "x": {
          "_inputArray": {
           "0": 956,
           "1": 962,
           "10": 1011,
           "11": 1020,
           "12": 1020,
           "13": 1045,
           "14": 1063,
           "2": 967,
           "3": 976,
           "4": 984,
           "5": 997,
           "6": 997,
           "7": 997,
           "8": 998,
           "9": 1007,
           "bdata": "vAPCA8cD0APYA+UD5QPlA+YD7wPzA/wD/AMVBCcE",
           "dtype": "i2",
           "shape": "15"
          },
          "bdata": "vAPCA8cD0APYA+UD5QPlA+YD7wPzA/wD/AMVBCcE",
          "dtype": "i2"
         },
         "xaxis": "x",
         "y": [
          "Education",
          "Manufacturing",
          "Gaming",
          "Energy",
          "Finance",
          "Healthcare",
          "Telecommunications",
          "Transportation",
          "Government",
          "Real Estate",
          "Technology",
          "Automotive",
          "Consulting",
          "Media",
          "Retail"
         ],
         "yaxis": "y"
        }
       ],
       "layout": {
        "barmode": "relative",
        "height": 700,
        "legend": {
         "tracegroupgap": 0
        },
        "margin": {
         "b": 50,
         "l": 200,
         "r": 50,
         "t": 50
        },
        "template": {
         "data": {
          "pie": [
           {
            "automargin": true,
            "type": "pie"
           }
          ],
          "scatter": [
           {
            "line": {
             "width": 3
            },
            "marker": {
             "size": 9
            },
            "type": "scatter"
           }
          ],
          "scatter3d": [
           {
            "line": {
             "width": 3
            },
            "marker": {
             "size": 9
            },
            "type": "scatter3d"
           }
          ],
          "scattergeo": [
           {
            "line": {
             "width": 3
            },
            "marker": {
             "size": 9
            },
            "type": "scattergeo"
           }
          ],
          "scattergl": [
           {
            "line": {
             "width": 3
            },
            "marker": {
             "size": 9
            },
            "type": "scattergl"
           }
          ],
          "scatterpolar": [
           {
            "line": {
             "width": 3
            },
            "marker": {
             "size": 9
            },
            "type": "scatterpolar"
           }
          ],
          "scatterpolargl": [
           {
            "line": {
             "width": 3
            },
            "marker": {
             "size": 9
            },
            "type": "scatterpolargl"
           }
          ],
          "scatterternary": [
           {
            "line": {
             "width": 3
            },
            "marker": {
             "size": 9
            },
            "type": "scatterternary"
           }
          ],
          "table": [
           {
            "cells": {
             "height": 30
            },
            "header": {
             "height": 36
            },
            "type": "table"
           }
          ]
         },
         "layout": {
          "font": {
           "size": 18
          },
          "xaxis": {
           "title": {
            "standoff": 15
           }
          },
          "yaxis": {
           "title": {
            "standoff": 15
           }
          }
         }
        },
        "title": {
         "text": "AI Employment Opportunities by Industry"
        },
        "width": 1000,
        "xaxis": {
         "anchor": "y",
         "domain": [
          0,
          1
         ],
         "range": [
          950,
          1080
         ],
         "showgrid": false,
         "showticklabels": false,
         "title": {
          "text": " "
         },
         "type": "linear"
        },
        "yaxis": {
         "anchor": "x",
         "autorange": true,
         "domain": [
          0,
          1
         ],
         "range": [
          -0.5,
          14.5
         ],
         "showgrid": false,
         "showticklabels": true,
         "title": {
          "text": " "
         },
         "type": "category"
        }
       }
      },
      "image/png": "[encoded data removed]"
     },
     "metadata": {},
     "output_type": "display_data"
    }
   ],
   "source": [
    "fig = px.bar(\n",
    "    industry_counts,\n",
    "    x=\"job_count\",\n",
    "    y=\"industry\",\n",
    "    title=\"AI Employment Opportunities by Industry\",\n",
    "    orientation='h',\n",
    "    height=700,\n",
    "    width=1000,\n",
    "    color_discrete_sequence=px.colors.sequential.RdBu,\n",
    "    text='job_count'\n",
    ")\n",
    "\n",
    "fig.update_layout(\n",
    "    template=\"presentation\",\n",
    "    xaxis_title=\" \",\n",
    "    yaxis_title=\" \",\n",
    "    xaxis=dict(range=[950, company_counts['job_count'].max() + 100], showticklabels=False, showgrid=False),\n",
    "    margin=dict(l=200, r=50, t=50, b=50),\n",
    "    yaxis=dict(showticklabels=True, showgrid=False)\n",
    ")\n",
    "\n",
    "fig.update_traces(textposition='outside')\n",
    "\n",
    "fig.show()\n"
   ]
  },
  {
   "cell_type": "markdown",
   "id": "f31bb294-a81d-4a52-9846-86afd052ad94",
   "metadata": {},
   "source": [
    "## Work Arrangements"
   ]
  },
  {
   "cell_type": "code",
   "execution_count": 31,
   "id": "e6f57b5e-9cfc-438a-a4e5-c75b283dfb61",
   "metadata": {},
   "outputs": [
    {
     "data": {
      "text/html": [
       "<div>\n",
       "<style scoped>\n",
       "    .dataframe tbody tr th:only-of-type {\n",
       "        vertical-align: middle;\n",
       "    }\n",
       "\n",
       "    .dataframe tbody tr th {\n",
       "        vertical-align: top;\n",
       "    }\n",
       "\n",
       "    .dataframe thead th {\n",
       "        text-align: right;\n",
       "    }\n",
       "</style>\n",
       "<table border=\"1\" class=\"dataframe\">\n",
       "  <thead>\n",
       "    <tr style=\"text-align: right;\">\n",
       "      <th></th>\n",
       "      <th>remote_ratio</th>\n",
       "      <th>job_count</th>\n",
       "    </tr>\n",
       "  </thead>\n",
       "  <tbody>\n",
       "    <tr>\n",
       "      <th>1</th>\n",
       "      <td>Fully remote</td>\n",
       "      <td>4920</td>\n",
       "    </tr>\n",
       "    <tr>\n",
       "      <th>2</th>\n",
       "      <td>Hybrid</td>\n",
       "      <td>5005</td>\n",
       "    </tr>\n",
       "    <tr>\n",
       "      <th>0</th>\n",
       "      <td>Fully on site</td>\n",
       "      <td>5075</td>\n",
       "    </tr>\n",
       "  </tbody>\n",
       "</table>\n",
       "</div>"
      ],
      "text/plain": [
       "    remote_ratio  job_count\n",
       "1   Fully remote       4920\n",
       "2         Hybrid       5005\n",
       "0  Fully on site       5075"
      ]
     },
     "execution_count": 31,
     "metadata": {},
     "output_type": "execute_result"
    }
   ],
   "source": [
    "workarrangements_counts = ai_jobs_df.groupby('remote_ratio').size().reset_index(name='job_count').sort_values(by='job_count',ascending = True)\n",
    "workarrangements_counts"
   ]
  },
  {
   "cell_type": "code",
   "execution_count": 32,
   "id": "05057b36-84a8-49d0-9d89-241402d4c34f",
   "metadata": {},
   "outputs": [
    {
     "data": {
      "application/vnd.plotly.v1+json": {
       "config": {
        "plotlyServerURL": "https://plot.ly"
       },
       "data": [
        {
         "domain": {
          "x": [
           0,
           1
          ],
          "y": [
           0,
           1
          ]
         },
         "hovertemplate": "remote_ratio=%{label}<br>job_count=%{value}<extra></extra>",
         "labels": [
          "Fully remote",
          "Hybrid",
          "Fully on site"
         ],
         "legendgroup": "",
         "name": "",
         "showlegend": true,
         "textinfo": "label+percent",
         "textposition": "inside",
         "type": "pie",
         "values": {
          "_inputArray": {
           "0": 4920,
           "1": 5005,
           "2": 5075,
           "bdata": "OBONE9MT",
           "dtype": "i2",
           "shape": "3"
          },
          "bdata": "OBONE9MT",
          "dtype": "i2"
         }
        }
       ],
       "layout": {
        "height": 600,
        "legend": {
         "tracegroupgap": 0
        },
        "piecolorway": [
         "rgb(103,0,31)",
         "rgb(178,24,43)",
         "rgb(214,96,77)",
         "rgb(244,165,130)",
         "rgb(253,219,199)",
         "rgb(247,247,247)",
         "rgb(209,229,240)",
         "rgb(146,197,222)",
         "rgb(67,147,195)",
         "rgb(33,102,172)",
         "rgb(5,48,97)"
        ],
        "template": {
         "data": {
          "pie": [
           {
            "automargin": true,
            "type": "pie"
           }
          ],
          "scatter": [
           {
            "line": {
             "width": 3
            },
            "marker": {
             "size": 9
            },
            "type": "scatter"
           }
          ],
          "scatter3d": [
           {
            "line": {
             "width": 3
            },
            "marker": {
             "size": 9
            },
            "type": "scatter3d"
           }
          ],
          "scattergeo": [
           {
            "line": {
             "width": 3
            },
            "marker": {
             "size": 9
            },
            "type": "scattergeo"
           }
          ],
          "scattergl": [
           {
            "line": {
             "width": 3
            },
            "marker": {
             "size": 9
            },
            "type": "scattergl"
           }
          ],
          "scatterpolar": [
           {
            "line": {
             "width": 3
            },
            "marker": {
             "size": 9
            },
            "type": "scatterpolar"
           }
          ],
          "scatterpolargl": [
           {
            "line": {
             "width": 3
            },
            "marker": {
             "size": 9
            },
            "type": "scatterpolargl"
           }
          ],
          "scatterternary": [
           {
            "line": {
             "width": 3
            },
            "marker": {
             "size": 9
            },
            "type": "scatterternary"
           }
          ],
          "table": [
           {
            "cells": {
             "height": 30
            },
            "header": {
             "height": 36
            },
            "type": "table"
           }
          ]
         },
         "layout": {
          "font": {
           "size": 18
          },
          "xaxis": {
           "title": {
            "standoff": 15
           }
          },
          "yaxis": {
           "title": {
            "standoff": 15
           }
          }
         }
        },
        "title": {
         "text": "Work Arrangement"
        },
        "width": 700
       }
      },
      "image/png": "[encoded data removed]"
     },
     "metadata": {},
     "output_type": "display_data"
    }
   ],
   "source": [
    "fig = px.pie(\n",
    "    workarrangements_counts,\n",
    "    names='remote_ratio',\n",
    "    values='job_count',\n",
    "    title='Work Arrangement',\n",
    "    color_discrete_sequence=px.colors.sequential.RdBu\n",
    ")\n",
    "\n",
    "fig.update_traces(\n",
    "    textinfo='label+percent',\n",
    "    textposition='inside'\n",
    ")\n",
    "\n",
    "fig.update_layout(\n",
    "    template='presentation',\n",
    "    height=600,\n",
    "    width=700\n",
    ")\n",
    "\n",
    "fig.show()"
   ]
  },
  {
   "cell_type": "markdown",
   "id": "035a9e4a-2263-45b6-a6ae-515528d8fb48",
   "metadata": {},
   "source": [
    "## Top AI Jobs"
   ]
  },
  {
   "cell_type": "code",
   "execution_count": 33,
   "id": "ee8a1a31-324a-4ba7-a367-f41d792bfdf2",
   "metadata": {},
   "outputs": [
    {
     "data": {
      "text/html": [
       "<div>\n",
       "<style scoped>\n",
       "    .dataframe tbody tr th:only-of-type {\n",
       "        vertical-align: middle;\n",
       "    }\n",
       "\n",
       "    .dataframe tbody tr th {\n",
       "        vertical-align: top;\n",
       "    }\n",
       "\n",
       "    .dataframe thead th {\n",
       "        text-align: right;\n",
       "    }\n",
       "</style>\n",
       "<table border=\"1\" class=\"dataframe\">\n",
       "  <thead>\n",
       "    <tr style=\"text-align: right;\">\n",
       "      <th></th>\n",
       "      <th>job_title</th>\n",
       "      <th>job_count</th>\n",
       "    </tr>\n",
       "  </thead>\n",
       "  <tbody>\n",
       "    <tr>\n",
       "      <th>1</th>\n",
       "      <td>AI Consultant</td>\n",
       "      <td>704</td>\n",
       "    </tr>\n",
       "    <tr>\n",
       "      <th>11</th>\n",
       "      <td>Deep Learning Engineer</td>\n",
       "      <td>718</td>\n",
       "    </tr>\n",
       "    <tr>\n",
       "      <th>10</th>\n",
       "      <td>Data Scientist</td>\n",
       "      <td>720</td>\n",
       "    </tr>\n",
       "    <tr>\n",
       "      <th>7</th>\n",
       "      <td>Computer Vision Engineer</td>\n",
       "      <td>724</td>\n",
       "    </tr>\n",
       "    <tr>\n",
       "      <th>13</th>\n",
       "      <td>ML Ops Engineer</td>\n",
       "      <td>725</td>\n",
       "    </tr>\n",
       "    <tr>\n",
       "      <th>5</th>\n",
       "      <td>AI Specialist</td>\n",
       "      <td>728</td>\n",
       "    </tr>\n",
       "    <tr>\n",
       "      <th>17</th>\n",
       "      <td>Principal Data Scientist</td>\n",
       "      <td>734</td>\n",
       "    </tr>\n",
       "    <tr>\n",
       "      <th>18</th>\n",
       "      <td>Research Scientist</td>\n",
       "      <td>742</td>\n",
       "    </tr>\n",
       "    <tr>\n",
       "      <th>2</th>\n",
       "      <td>AI Product Manager</td>\n",
       "      <td>743</td>\n",
       "    </tr>\n",
       "    <tr>\n",
       "      <th>9</th>\n",
       "      <td>Data Engineer</td>\n",
       "      <td>749</td>\n",
       "    </tr>\n",
       "    <tr>\n",
       "      <th>3</th>\n",
       "      <td>AI Research Scientist</td>\n",
       "      <td>756</td>\n",
       "    </tr>\n",
       "    <tr>\n",
       "      <th>19</th>\n",
       "      <td>Robotics Engineer</td>\n",
       "      <td>759</td>\n",
       "    </tr>\n",
       "    <tr>\n",
       "      <th>8</th>\n",
       "      <td>Data Analyst</td>\n",
       "      <td>759</td>\n",
       "    </tr>\n",
       "    <tr>\n",
       "      <th>16</th>\n",
       "      <td>NLP Engineer</td>\n",
       "      <td>762</td>\n",
       "    </tr>\n",
       "    <tr>\n",
       "      <th>12</th>\n",
       "      <td>Head of AI</td>\n",
       "      <td>765</td>\n",
       "    </tr>\n",
       "    <tr>\n",
       "      <th>0</th>\n",
       "      <td>AI Architect</td>\n",
       "      <td>771</td>\n",
       "    </tr>\n",
       "    <tr>\n",
       "      <th>14</th>\n",
       "      <td>Machine Learning Engineer</td>\n",
       "      <td>772</td>\n",
       "    </tr>\n",
       "    <tr>\n",
       "      <th>6</th>\n",
       "      <td>Autonomous Systems Engineer</td>\n",
       "      <td>777</td>\n",
       "    </tr>\n",
       "    <tr>\n",
       "      <th>4</th>\n",
       "      <td>AI Software Engineer</td>\n",
       "      <td>784</td>\n",
       "    </tr>\n",
       "    <tr>\n",
       "      <th>15</th>\n",
       "      <td>Machine Learning Researcher</td>\n",
       "      <td>808</td>\n",
       "    </tr>\n",
       "  </tbody>\n",
       "</table>\n",
       "</div>"
      ],
      "text/plain": [
       "                      job_title  job_count\n",
       "1                 AI Consultant        704\n",
       "11       Deep Learning Engineer        718\n",
       "10               Data Scientist        720\n",
       "7      Computer Vision Engineer        724\n",
       "13              ML Ops Engineer        725\n",
       "5                 AI Specialist        728\n",
       "17     Principal Data Scientist        734\n",
       "18           Research Scientist        742\n",
       "2            AI Product Manager        743\n",
       "9                 Data Engineer        749\n",
       "3         AI Research Scientist        756\n",
       "19            Robotics Engineer        759\n",
       "8                  Data Analyst        759\n",
       "16                 NLP Engineer        762\n",
       "12                   Head of AI        765\n",
       "0                  AI Architect        771\n",
       "14    Machine Learning Engineer        772\n",
       "6   Autonomous Systems Engineer        777\n",
       "4          AI Software Engineer        784\n",
       "15  Machine Learning Researcher        808"
      ]
     },
     "execution_count": 33,
     "metadata": {},
     "output_type": "execute_result"
    }
   ],
   "source": [
    "ai_jobs_counts = ai_jobs_df.groupby('job_title').size().reset_index(name='job_count').sort_values(by='job_count',ascending = True)\n",
    "ai_jobs_counts"
   ]
  },
  {
   "cell_type": "code",
   "execution_count": 34,
   "id": "8cf3bc1e-15e0-4f3f-bffe-c4d83e151451",
   "metadata": {},
   "outputs": [
    {
     "data": {
      "application/vnd.plotly.v1+json": {
       "config": {
        "plotlyServerURL": "https://plot.ly"
       },
       "data": [
        {
         "hovertemplate": "job_count=%{text}<br>job_title=%{y}<extra></extra>",
         "legendgroup": "",
         "marker": {
          "color": "rgb(103,0,31)",
          "pattern": {
           "shape": ""
          }
         },
         "name": "",
         "orientation": "h",
         "showlegend": false,
         "text": {
          "_inputArray": {
           "0": 704,
           "1": 718,
           "10": 756,
           "11": 759,
           "12": 759,
           "13": 762,
           "14": 765,
           "15": 771,
           "16": 772,
           "17": 777,
           "18": 784,
           "19": 808,
           "2": 720,
           "3": 724,
           "4": 725,
           "5": 728,
           "6": 734,
           "7": 742,
           "8": 743,
           "9": 749,
           "bdata": "AAAAAAAAhkAAAAAAAHCGQAAAAAAAgIZAAAAAAACghkAAAAAAAKiGQAAAAAAAwIZAAAAAAADwhkAAAAAAADCHQAAAAAAAOIdAAAAAAABoh0AAAAAAAKCHQAAAAAAAuIdAAAAAAAC4h0AAAAAAANCHQAAAAAAA6IdAAAAAAAAYiEAAAAAAACCIQAAAAAAASIhAAAAAAACAiEAAAAAAAECJQA==",
           "dtype": "f8",
           "shape": "20"
          },
          "bdata": "AAAAAAAAhkAAAAAAAHCGQAAAAAAAgIZAAAAAAACghkAAAAAAAKiGQAAAAAAAwIZAAAAAAADwhkAAAAAAADCHQAAAAAAAOIdAAAAAAABoh0AAAAAAAKCHQAAAAAAAuIdAAAAAAAC4h0AAAAAAANCHQAAAAAAA6IdAAAAAAAAYiEAAAAAAACCIQAAAAAAASIhAAAAAAACAiEAAAAAAAECJQA==",
          "dtype": "f8"
         },
         "textposition": "outside",
         "type": "bar",
         "x": {
          "_inputArray": {
           "0": 704,
           "1": 718,
           "10": 756,
           "11": 759,
           "12": 759,
           "13": 762,
           "14": 765,
           "15": 771,
           "16": 772,
           "17": 777,
           "18": 784,
           "19": 808,
           "2": 720,
           "3": 724,
           "4": 725,
           "5": 728,
           "6": 734,
           "7": 742,
           "8": 743,
           "9": 749,
           "bdata": "wALOAtAC1ALVAtgC3gLmAucC7QL0AvcC9wL6Av0CAwMEAwkDEAMoAw==",
           "dtype": "i2",
           "shape": "20"
          },
          "bdata": "wALOAtAC1ALVAtgC3gLmAucC7QL0AvcC9wL6Av0CAwMEAwkDEAMoAw==",
          "dtype": "i2"
         },
         "xaxis": "x",
         "y": [
          "AI Consultant",
          "Deep Learning Engineer",
          "Data Scientist",
          "Computer Vision Engineer",
          "ML Ops Engineer",
          "AI Specialist",
          "Principal Data Scientist",
          "Research Scientist",
          "AI Product Manager",
          "Data Engineer",
          "AI Research Scientist",
          "Robotics Engineer",
          "Data Analyst",
          "NLP Engineer",
          "Head of AI",
          "AI Architect",
          "Machine Learning Engineer",
          "Autonomous Systems Engineer",
          "AI Software Engineer",
          "Machine Learning Researcher"
         ],
         "yaxis": "y"
        }
       ],
       "layout": {
        "barmode": "relative",
        "height": 700,
        "legend": {
         "tracegroupgap": 0
        },
        "margin": {
         "b": 50,
         "l": 200,
         "r": 50,
         "t": 50
        },
        "template": {
         "data": {
          "pie": [
           {
            "automargin": true,
            "type": "pie"
           }
          ],
          "scatter": [
           {
            "line": {
             "width": 3
            },
            "marker": {
             "size": 9
            },
            "type": "scatter"
           }
          ],
          "scatter3d": [
           {
            "line": {
             "width": 3
            },
            "marker": {
             "size": 9
            },
            "type": "scatter3d"
           }
          ],
          "scattergeo": [
           {
            "line": {
             "width": 3
            },
            "marker": {
             "size": 9
            },
            "type": "scattergeo"
           }
          ],
          "scattergl": [
           {
            "line": {
             "width": 3
            },
            "marker": {
             "size": 9
            },
            "type": "scattergl"
           }
          ],
          "scatterpolar": [
           {
            "line": {
             "width": 3
            },
            "marker": {
             "size": 9
            },
            "type": "scatterpolar"
           }
          ],
          "scatterpolargl": [
           {
            "line": {
             "width": 3
            },
            "marker": {
             "size": 9
            },
            "type": "scatterpolargl"
           }
          ],
          "scatterternary": [
           {
            "line": {
             "width": 3
            },
            "marker": {
             "size": 9
            },
            "type": "scatterternary"
           }
          ],
          "table": [
           {
            "cells": {
             "height": 30
            },
            "header": {
             "height": 36
            },
            "type": "table"
           }
          ]
         },
         "layout": {
          "font": {
           "size": 18
          },
          "xaxis": {
           "title": {
            "standoff": 15
           }
          },
          "yaxis": {
           "title": {
            "standoff": 15
           }
          }
         }
        },
        "title": {
         "text": "Top AI Jobs"
        },
        "width": 1000,
        "xaxis": {
         "anchor": "y",
         "domain": [
          0,
          1
         ],
         "range": [
          500,
          1080
         ],
         "showgrid": false,
         "showticklabels": false,
         "title": {
          "text": " "
         },
         "type": "linear"
        },
        "yaxis": {
         "anchor": "x",
         "autorange": true,
         "domain": [
          0,
          1
         ],
         "range": [
          -0.5,
          19.5
         ],
         "showgrid": false,
         "showticklabels": true,
         "title": {
          "text": " "
         },
         "type": "category"
        }
       }
      },
      "image/png": "[encoded data removed]"
     },
     "metadata": {},
     "output_type": "display_data"
    }
   ],
   "source": [
    "fig = px.bar(\n",
    "    ai_jobs_counts,\n",
    "    x=\"job_count\",\n",
    "    y=\"job_title\",\n",
    "    title=\"Top AI Jobs\",\n",
    "    orientation='h',\n",
    "    height=700,\n",
    "    width=1000,\n",
    "    color_discrete_sequence=px.colors.sequential.RdBu,\n",
    "    text='job_count'\n",
    ")\n",
    "\n",
    "fig.update_layout(\n",
    "    template=\"presentation\",\n",
    "    xaxis_title=\" \",\n",
    "    yaxis_title=\" \",\n",
    "    xaxis=dict(range=[500, company_counts['job_count'].max() + 100], showticklabels=False, showgrid=False),\n",
    "    margin=dict(l=200, r=50, t=50, b=50),\n",
    "    yaxis=dict(showticklabels=True, showgrid=False)\n",
    ")\n",
    "\n",
    "fig.update_traces(textposition='outside')\n",
    "\n",
    "fig.show()"
   ]
  },
  {
   "cell_type": "code",
   "execution_count": null,
   "id": "c0908e24-d974-4db5-838d-e99f8ae35a6f",
   "metadata": {},
   "outputs": [],
   "source": []
  }
 ],
 "metadata": {
  "kernelspec": {
   "display_name": "Python 3 (ipykernel)",
   "language": "python",
   "name": "python3"
  },
  "language_info": {
   "codemirror_mode": {
    "name": "ipython",
    "version": 3
   },
   "file_extension": ".py",
   "mimetype": "text/x-python",
   "name": "python",
   "nbconvert_exporter": "python",
   "pygments_lexer": "ipython3",
   "version": "3.12.7"
  }
 },
 "nbformat": 4,
 "nbformat_minor": 5
}
